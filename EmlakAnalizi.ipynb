{
 "cells": [
  {
   "cell_type": "code",
   "execution_count": 1358,
   "id": "8f8b40ff",
   "metadata": {},
   "outputs": [],
   "source": [
    "import numpy as np\n",
    "import pandas as pd\n",
    "import matplotlib as plt\n",
    "import matplotlib.pyplot as plt\n",
    "import seaborn as sns\n",
    "from datetime import datetime"
   ]
  },
  {
   "cell_type": "code",
   "execution_count": 1359,
   "id": "829d49d4",
   "metadata": {},
   "outputs": [],
   "source": [
    "df = pd.read_csv(\"C:/Users/merve/Desktop/Real Estate in ISTANBUL (Emlakjet).csv\")"
   ]
  },
  {
   "cell_type": "code",
   "execution_count": 1360,
   "id": "84806e16",
   "metadata": {},
   "outputs": [
    {
     "data": {
      "text/html": [
       "<div>\n",
       "<style scoped>\n",
       "    .dataframe tbody tr th:only-of-type {\n",
       "        vertical-align: middle;\n",
       "    }\n",
       "\n",
       "    .dataframe tbody tr th {\n",
       "        vertical-align: top;\n",
       "    }\n",
       "\n",
       "    .dataframe thead th {\n",
       "        text-align: right;\n",
       "    }\n",
       "</style>\n",
       "<table border=\"1\" class=\"dataframe\">\n",
       "  <thead>\n",
       "    <tr style=\"text-align: right;\">\n",
       "      <th></th>\n",
       "      <th>İlan_Numarası</th>\n",
       "      <th>İlan_Güncelleme_Tarihi</th>\n",
       "      <th>Kategorisi</th>\n",
       "      <th>Brüt_Metrekare</th>\n",
       "      <th>Binanın_Yaşı</th>\n",
       "      <th>Binanın_Kat_Sayısı</th>\n",
       "      <th>Kullanım_Durumu</th>\n",
       "      <th>Yatırıma_Uygunluk</th>\n",
       "      <th>Eşya_Durumu</th>\n",
       "      <th>Banyo_Sayısı</th>\n",
       "      <th>...</th>\n",
       "      <th>Site_İçerisinde</th>\n",
       "      <th>Takas</th>\n",
       "      <th>Fiyat_Durumu</th>\n",
       "      <th>Fiyatı</th>\n",
       "      <th>İl</th>\n",
       "      <th>İlçe</th>\n",
       "      <th>Mahalle</th>\n",
       "      <th>yaka</th>\n",
       "      <th>Yaşam_endeksi</th>\n",
       "      <th>Nüfus</th>\n",
       "    </tr>\n",
       "  </thead>\n",
       "  <tbody>\n",
       "    <tr>\n",
       "      <th>0</th>\n",
       "      <td>2003</td>\n",
       "      <td>02 Şubat 2022</td>\n",
       "      <td>Satılık</td>\n",
       "      <td>190</td>\n",
       "      <td>5-10</td>\n",
       "      <td>20</td>\n",
       "      <td>Kiracı Oturuyor</td>\n",
       "      <td>Bilinmiyor</td>\n",
       "      <td>Yok</td>\n",
       "      <td>2</td>\n",
       "      <td>...</td>\n",
       "      <td>Hayır</td>\n",
       "      <td>Var</td>\n",
       "      <td>Genel Fiyat</td>\n",
       "      <td>18000000</td>\n",
       "      <td>İstanbul</td>\n",
       "      <td>Beşiktaş</td>\n",
       "      <td>Nisbetiye Mahallesi</td>\n",
       "      <td>Avrupa Yakası</td>\n",
       "      <td>0.911</td>\n",
       "      <td>178.938</td>\n",
       "    </tr>\n",
       "    <tr>\n",
       "      <th>1</th>\n",
       "      <td>166</td>\n",
       "      <td>14 Ocak 2022</td>\n",
       "      <td>Satılık</td>\n",
       "      <td>300</td>\n",
       "      <td>21 Ve Üzeri</td>\n",
       "      <td>2</td>\n",
       "      <td>Kiracı Oturuyor</td>\n",
       "      <td>Bilinmiyor</td>\n",
       "      <td>Yok</td>\n",
       "      <td>3</td>\n",
       "      <td>...</td>\n",
       "      <td>Hayır</td>\n",
       "      <td>Var</td>\n",
       "      <td>Genel Fiyat</td>\n",
       "      <td>8500000</td>\n",
       "      <td>İstanbul</td>\n",
       "      <td>Beşiktaş</td>\n",
       "      <td>Akat Mahallesi</td>\n",
       "      <td>Avrupa Yakası</td>\n",
       "      <td>0.911</td>\n",
       "      <td>178.938</td>\n",
       "    </tr>\n",
       "    <tr>\n",
       "      <th>2</th>\n",
       "      <td>167</td>\n",
       "      <td>14 Ocak 2022</td>\n",
       "      <td>Satılık</td>\n",
       "      <td>350</td>\n",
       "      <td>21 Ve Üzeri</td>\n",
       "      <td>3</td>\n",
       "      <td>Mülk Sahibi Oturuyor</td>\n",
       "      <td>Bilinmiyor</td>\n",
       "      <td>Yok</td>\n",
       "      <td>2</td>\n",
       "      <td>...</td>\n",
       "      <td>Hayır</td>\n",
       "      <td>Var</td>\n",
       "      <td>Genel Fiyat</td>\n",
       "      <td>16500000</td>\n",
       "      <td>İstanbul</td>\n",
       "      <td>Beşiktaş</td>\n",
       "      <td>Levent Mahallesi</td>\n",
       "      <td>Avrupa Yakası</td>\n",
       "      <td>0.911</td>\n",
       "      <td>178.938</td>\n",
       "    </tr>\n",
       "    <tr>\n",
       "      <th>3</th>\n",
       "      <td>115</td>\n",
       "      <td>06 Ocak 2022</td>\n",
       "      <td>Satılık</td>\n",
       "      <td>450</td>\n",
       "      <td>5-10</td>\n",
       "      <td>4</td>\n",
       "      <td>Kiracı Oturuyor</td>\n",
       "      <td>Bilinmiyor</td>\n",
       "      <td>Yok</td>\n",
       "      <td>3</td>\n",
       "      <td>...</td>\n",
       "      <td>Hayır</td>\n",
       "      <td>Var</td>\n",
       "      <td>Genel Fiyat</td>\n",
       "      <td>22000000</td>\n",
       "      <td>İstanbul</td>\n",
       "      <td>Beşiktaş</td>\n",
       "      <td>Levazım Mahallesi</td>\n",
       "      <td>Avrupa Yakası</td>\n",
       "      <td>0.911</td>\n",
       "      <td>178.938</td>\n",
       "    </tr>\n",
       "    <tr>\n",
       "      <th>4</th>\n",
       "      <td>2879</td>\n",
       "      <td>08 Şubat 2022</td>\n",
       "      <td>Satılık</td>\n",
       "      <td>160</td>\n",
       "      <td>21 Ve Üzeri</td>\n",
       "      <td>2</td>\n",
       "      <td>Mülk Sahibi Oturuyor</td>\n",
       "      <td>Bilinmiyor</td>\n",
       "      <td>Yok</td>\n",
       "      <td>1</td>\n",
       "      <td>...</td>\n",
       "      <td>Hayır</td>\n",
       "      <td>Var</td>\n",
       "      <td>Genel Fiyat</td>\n",
       "      <td>4250000</td>\n",
       "      <td>İstanbul</td>\n",
       "      <td>Beşiktaş</td>\n",
       "      <td>Nisbetiye Mahallesi</td>\n",
       "      <td>Avrupa Yakası</td>\n",
       "      <td>0.911</td>\n",
       "      <td>178.938</td>\n",
       "    </tr>\n",
       "    <tr>\n",
       "      <th>...</th>\n",
       "      <td>...</td>\n",
       "      <td>...</td>\n",
       "      <td>...</td>\n",
       "      <td>...</td>\n",
       "      <td>...</td>\n",
       "      <td>...</td>\n",
       "      <td>...</td>\n",
       "      <td>...</td>\n",
       "      <td>...</td>\n",
       "      <td>...</td>\n",
       "      <td>...</td>\n",
       "      <td>...</td>\n",
       "      <td>...</td>\n",
       "      <td>...</td>\n",
       "      <td>...</td>\n",
       "      <td>...</td>\n",
       "      <td>...</td>\n",
       "      <td>...</td>\n",
       "      <td>...</td>\n",
       "      <td>...</td>\n",
       "      <td>...</td>\n",
       "    </tr>\n",
       "    <tr>\n",
       "      <th>2978</th>\n",
       "      <td>453</td>\n",
       "      <td>16 Aralık 2021</td>\n",
       "      <td>Satılık</td>\n",
       "      <td>550</td>\n",
       "      <td>21 Ve Üzeri</td>\n",
       "      <td>4</td>\n",
       "      <td>Kiracı Oturuyor</td>\n",
       "      <td>Bilinmiyor</td>\n",
       "      <td>Yok</td>\n",
       "      <td>5</td>\n",
       "      <td>...</td>\n",
       "      <td>Hayır</td>\n",
       "      <td>Var</td>\n",
       "      <td>Genel Fiyat</td>\n",
       "      <td>6100000</td>\n",
       "      <td>İstanbul</td>\n",
       "      <td>Sarıyer</td>\n",
       "      <td>Maslak Mahallesi</td>\n",
       "      <td>Avrupa Yakası</td>\n",
       "      <td>0.347</td>\n",
       "      <td>349.968</td>\n",
       "    </tr>\n",
       "    <tr>\n",
       "      <th>2979</th>\n",
       "      <td>448</td>\n",
       "      <td>16 Aralık 2021</td>\n",
       "      <td>Satılık</td>\n",
       "      <td>160</td>\n",
       "      <td>16-20</td>\n",
       "      <td>4</td>\n",
       "      <td>Kiracı Oturuyor</td>\n",
       "      <td>Bilinmiyor</td>\n",
       "      <td>Yok</td>\n",
       "      <td>1</td>\n",
       "      <td>...</td>\n",
       "      <td>Hayır</td>\n",
       "      <td>Var</td>\n",
       "      <td>Genel Fiyat</td>\n",
       "      <td>2050000</td>\n",
       "      <td>İstanbul</td>\n",
       "      <td>Sarıyer</td>\n",
       "      <td>Maslak Mahallesi</td>\n",
       "      <td>Avrupa Yakası</td>\n",
       "      <td>0.347</td>\n",
       "      <td>349.968</td>\n",
       "    </tr>\n",
       "    <tr>\n",
       "      <th>2980</th>\n",
       "      <td>451</td>\n",
       "      <td>28 Aralık 2021</td>\n",
       "      <td>Satılık</td>\n",
       "      <td>220</td>\n",
       "      <td>16-20</td>\n",
       "      <td>4</td>\n",
       "      <td>Kiracı Oturuyor</td>\n",
       "      <td>Bilinmiyor</td>\n",
       "      <td>Yok</td>\n",
       "      <td>3</td>\n",
       "      <td>...</td>\n",
       "      <td>Hayır</td>\n",
       "      <td>Var</td>\n",
       "      <td>Genel Fiyat</td>\n",
       "      <td>7850000</td>\n",
       "      <td>İstanbul</td>\n",
       "      <td>Sarıyer</td>\n",
       "      <td>Reşitpaşa Mahallesi</td>\n",
       "      <td>Avrupa Yakası</td>\n",
       "      <td>0.347</td>\n",
       "      <td>349.968</td>\n",
       "    </tr>\n",
       "    <tr>\n",
       "      <th>2981</th>\n",
       "      <td>454</td>\n",
       "      <td>28 Aralık 2021</td>\n",
       "      <td>Satılık</td>\n",
       "      <td>950</td>\n",
       "      <td>21 Ve Üzeri</td>\n",
       "      <td>3</td>\n",
       "      <td>Mülk Sahibi Oturuyor</td>\n",
       "      <td>Bilinmiyor</td>\n",
       "      <td>Yok</td>\n",
       "      <td>4</td>\n",
       "      <td>...</td>\n",
       "      <td>Hayır</td>\n",
       "      <td>Var</td>\n",
       "      <td>Genel Fiyat</td>\n",
       "      <td>4900000</td>\n",
       "      <td>İstanbul</td>\n",
       "      <td>Sarıyer</td>\n",
       "      <td>Maden Mahallesi</td>\n",
       "      <td>Avrupa Yakası</td>\n",
       "      <td>0.347</td>\n",
       "      <td>349.968</td>\n",
       "    </tr>\n",
       "    <tr>\n",
       "      <th>2982</th>\n",
       "      <td>452</td>\n",
       "      <td>03 Ocak 2022</td>\n",
       "      <td>Satılık</td>\n",
       "      <td>250</td>\n",
       "      <td>5-10</td>\n",
       "      <td>2</td>\n",
       "      <td>Kiracı Oturuyor</td>\n",
       "      <td>Bilinmiyor</td>\n",
       "      <td>Yok</td>\n",
       "      <td>3</td>\n",
       "      <td>...</td>\n",
       "      <td>Hayır</td>\n",
       "      <td>Var</td>\n",
       "      <td>Genel Fiyat</td>\n",
       "      <td>3700000</td>\n",
       "      <td>İstanbul</td>\n",
       "      <td>Sarıyer</td>\n",
       "      <td>Maslak Mahallesi</td>\n",
       "      <td>Avrupa Yakası</td>\n",
       "      <td>0.347</td>\n",
       "      <td>349.968</td>\n",
       "    </tr>\n",
       "  </tbody>\n",
       "</table>\n",
       "<p>2983 rows × 27 columns</p>\n",
       "</div>"
      ],
      "text/plain": [
       "      İlan_Numarası İlan_Güncelleme_Tarihi Kategorisi  Brüt_Metrekare  \\\n",
       "0              2003         02 Şubat 2022    Satılık              190   \n",
       "1               166          14 Ocak 2022    Satılık              300   \n",
       "2               167          14 Ocak 2022    Satılık              350   \n",
       "3               115          06 Ocak 2022    Satılık              450   \n",
       "4              2879         08 Şubat 2022    Satılık              160   \n",
       "...             ...                    ...        ...             ...   \n",
       "2978            453        16 Aralık 2021    Satılık              550   \n",
       "2979            448        16 Aralık 2021    Satılık              160   \n",
       "2980            451        28 Aralık 2021    Satılık              220   \n",
       "2981            454        28 Aralık 2021    Satılık              950   \n",
       "2982            452          03 Ocak 2022    Satılık              250   \n",
       "\n",
       "      Binanın_Yaşı  Binanın_Kat_Sayısı        Kullanım_Durumu  \\\n",
       "0            5-10                   20       Kiracı Oturuyor    \n",
       "1     21 Ve Üzeri                    2       Kiracı Oturuyor    \n",
       "2     21 Ve Üzeri                    3  Mülk Sahibi Oturuyor    \n",
       "3            5-10                    4       Kiracı Oturuyor    \n",
       "4     21 Ve Üzeri                    2  Mülk Sahibi Oturuyor    \n",
       "...            ...                 ...                    ...   \n",
       "2978  21 Ve Üzeri                    4       Kiracı Oturuyor    \n",
       "2979        16-20                    4       Kiracı Oturuyor    \n",
       "2980        16-20                    4       Kiracı Oturuyor    \n",
       "2981  21 Ve Üzeri                    3  Mülk Sahibi Oturuyor    \n",
       "2982         5-10                    2       Kiracı Oturuyor    \n",
       "\n",
       "     Yatırıma_Uygunluk Eşya_Durumu Banyo_Sayısı  ... Site_İçerisinde Takas  \\\n",
       "0          Bilinmiyor          Yok           2   ...           Hayır   Var   \n",
       "1          Bilinmiyor          Yok           3   ...           Hayır   Var   \n",
       "2          Bilinmiyor          Yok           2   ...           Hayır   Var   \n",
       "3          Bilinmiyor          Yok           3   ...           Hayır   Var   \n",
       "4          Bilinmiyor          Yok           1   ...           Hayır   Var   \n",
       "...                ...         ...          ...  ...             ...   ...   \n",
       "2978       Bilinmiyor          Yok           5   ...           Hayır   Var   \n",
       "2979       Bilinmiyor          Yok           1   ...           Hayır   Var   \n",
       "2980       Bilinmiyor          Yok           3   ...           Hayır   Var   \n",
       "2981       Bilinmiyor          Yok           4   ...           Hayır   Var   \n",
       "2982       Bilinmiyor          Yok           3   ...           Hayır   Var   \n",
       "\n",
       "      Fiyat_Durumu    Fiyatı         İl        İlçe                Mahalle  \\\n",
       "0     Genel Fiyat   18000000  İstanbul    Beşiktaş    Nisbetiye Mahallesi    \n",
       "1     Genel Fiyat    8500000  İstanbul    Beşiktaş         Akat Mahallesi    \n",
       "2     Genel Fiyat   16500000  İstanbul    Beşiktaş       Levent Mahallesi    \n",
       "3     Genel Fiyat   22000000  İstanbul    Beşiktaş      Levazım Mahallesi    \n",
       "4     Genel Fiyat    4250000  İstanbul    Beşiktaş    Nisbetiye Mahallesi    \n",
       "...            ...       ...        ...         ...                    ...   \n",
       "2978  Genel Fiyat    6100000  İstanbul     Sarıyer       Maslak Mahallesi    \n",
       "2979  Genel Fiyat    2050000  İstanbul     Sarıyer       Maslak Mahallesi    \n",
       "2980  Genel Fiyat    7850000  İstanbul     Sarıyer    Reşitpaşa Mahallesi    \n",
       "2981  Genel Fiyat    4900000  İstanbul     Sarıyer        Maden Mahallesi    \n",
       "2982  Genel Fiyat    3700000  İstanbul     Sarıyer       Maslak Mahallesi    \n",
       "\n",
       "               yaka Yaşam_endeksi    Nüfus  \n",
       "0     Avrupa Yakası         0.911  178.938  \n",
       "1     Avrupa Yakası         0.911  178.938  \n",
       "2     Avrupa Yakası         0.911  178.938  \n",
       "3     Avrupa Yakası         0.911  178.938  \n",
       "4     Avrupa Yakası         0.911  178.938  \n",
       "...             ...           ...      ...  \n",
       "2978  Avrupa Yakası         0.347  349.968  \n",
       "2979  Avrupa Yakası         0.347  349.968  \n",
       "2980  Avrupa Yakası         0.347  349.968  \n",
       "2981  Avrupa Yakası         0.347  349.968  \n",
       "2982  Avrupa Yakası         0.347  349.968  \n",
       "\n",
       "[2983 rows x 27 columns]"
      ]
     },
     "execution_count": 1360,
     "metadata": {},
     "output_type": "execute_result"
    }
   ],
   "source": [
    "df"
   ]
  },
  {
   "cell_type": "code",
   "execution_count": 1361,
   "id": "57757cad",
   "metadata": {},
   "outputs": [
    {
     "data": {
      "text/html": [
       "<div>\n",
       "<style scoped>\n",
       "    .dataframe tbody tr th:only-of-type {\n",
       "        vertical-align: middle;\n",
       "    }\n",
       "\n",
       "    .dataframe tbody tr th {\n",
       "        vertical-align: top;\n",
       "    }\n",
       "\n",
       "    .dataframe thead th {\n",
       "        text-align: right;\n",
       "    }\n",
       "</style>\n",
       "<table border=\"1\" class=\"dataframe\">\n",
       "  <thead>\n",
       "    <tr style=\"text-align: right;\">\n",
       "      <th></th>\n",
       "      <th>İlan_Numarası</th>\n",
       "      <th>İlan_Güncelleme_Tarihi</th>\n",
       "      <th>Kategorisi</th>\n",
       "      <th>Brüt_Metrekare</th>\n",
       "      <th>Binanın_Yaşı</th>\n",
       "      <th>Binanın_Kat_Sayısı</th>\n",
       "      <th>Kullanım_Durumu</th>\n",
       "      <th>Yatırıma_Uygunluk</th>\n",
       "      <th>Eşya_Durumu</th>\n",
       "      <th>Banyo_Sayısı</th>\n",
       "      <th>...</th>\n",
       "      <th>Site_İçerisinde</th>\n",
       "      <th>Takas</th>\n",
       "      <th>Fiyat_Durumu</th>\n",
       "      <th>Fiyatı</th>\n",
       "      <th>İl</th>\n",
       "      <th>İlçe</th>\n",
       "      <th>Mahalle</th>\n",
       "      <th>yaka</th>\n",
       "      <th>Yaşam_endeksi</th>\n",
       "      <th>Nüfus</th>\n",
       "    </tr>\n",
       "  </thead>\n",
       "  <tbody>\n",
       "    <tr>\n",
       "      <th>0</th>\n",
       "      <td>2003</td>\n",
       "      <td>02 Şubat 2022</td>\n",
       "      <td>Satılık</td>\n",
       "      <td>190</td>\n",
       "      <td>5-10</td>\n",
       "      <td>20</td>\n",
       "      <td>Kiracı Oturuyor</td>\n",
       "      <td>Bilinmiyor</td>\n",
       "      <td>Yok</td>\n",
       "      <td>2</td>\n",
       "      <td>...</td>\n",
       "      <td>Hayır</td>\n",
       "      <td>Var</td>\n",
       "      <td>Genel Fiyat</td>\n",
       "      <td>18000000</td>\n",
       "      <td>İstanbul</td>\n",
       "      <td>Beşiktaş</td>\n",
       "      <td>Nisbetiye Mahallesi</td>\n",
       "      <td>Avrupa Yakası</td>\n",
       "      <td>0.911</td>\n",
       "      <td>178.938</td>\n",
       "    </tr>\n",
       "    <tr>\n",
       "      <th>1</th>\n",
       "      <td>166</td>\n",
       "      <td>14 Ocak 2022</td>\n",
       "      <td>Satılık</td>\n",
       "      <td>300</td>\n",
       "      <td>21 Ve Üzeri</td>\n",
       "      <td>2</td>\n",
       "      <td>Kiracı Oturuyor</td>\n",
       "      <td>Bilinmiyor</td>\n",
       "      <td>Yok</td>\n",
       "      <td>3</td>\n",
       "      <td>...</td>\n",
       "      <td>Hayır</td>\n",
       "      <td>Var</td>\n",
       "      <td>Genel Fiyat</td>\n",
       "      <td>8500000</td>\n",
       "      <td>İstanbul</td>\n",
       "      <td>Beşiktaş</td>\n",
       "      <td>Akat Mahallesi</td>\n",
       "      <td>Avrupa Yakası</td>\n",
       "      <td>0.911</td>\n",
       "      <td>178.938</td>\n",
       "    </tr>\n",
       "    <tr>\n",
       "      <th>2</th>\n",
       "      <td>167</td>\n",
       "      <td>14 Ocak 2022</td>\n",
       "      <td>Satılık</td>\n",
       "      <td>350</td>\n",
       "      <td>21 Ve Üzeri</td>\n",
       "      <td>3</td>\n",
       "      <td>Mülk Sahibi Oturuyor</td>\n",
       "      <td>Bilinmiyor</td>\n",
       "      <td>Yok</td>\n",
       "      <td>2</td>\n",
       "      <td>...</td>\n",
       "      <td>Hayır</td>\n",
       "      <td>Var</td>\n",
       "      <td>Genel Fiyat</td>\n",
       "      <td>16500000</td>\n",
       "      <td>İstanbul</td>\n",
       "      <td>Beşiktaş</td>\n",
       "      <td>Levent Mahallesi</td>\n",
       "      <td>Avrupa Yakası</td>\n",
       "      <td>0.911</td>\n",
       "      <td>178.938</td>\n",
       "    </tr>\n",
       "    <tr>\n",
       "      <th>3</th>\n",
       "      <td>115</td>\n",
       "      <td>06 Ocak 2022</td>\n",
       "      <td>Satılık</td>\n",
       "      <td>450</td>\n",
       "      <td>5-10</td>\n",
       "      <td>4</td>\n",
       "      <td>Kiracı Oturuyor</td>\n",
       "      <td>Bilinmiyor</td>\n",
       "      <td>Yok</td>\n",
       "      <td>3</td>\n",
       "      <td>...</td>\n",
       "      <td>Hayır</td>\n",
       "      <td>Var</td>\n",
       "      <td>Genel Fiyat</td>\n",
       "      <td>22000000</td>\n",
       "      <td>İstanbul</td>\n",
       "      <td>Beşiktaş</td>\n",
       "      <td>Levazım Mahallesi</td>\n",
       "      <td>Avrupa Yakası</td>\n",
       "      <td>0.911</td>\n",
       "      <td>178.938</td>\n",
       "    </tr>\n",
       "    <tr>\n",
       "      <th>4</th>\n",
       "      <td>2879</td>\n",
       "      <td>08 Şubat 2022</td>\n",
       "      <td>Satılık</td>\n",
       "      <td>160</td>\n",
       "      <td>21 Ve Üzeri</td>\n",
       "      <td>2</td>\n",
       "      <td>Mülk Sahibi Oturuyor</td>\n",
       "      <td>Bilinmiyor</td>\n",
       "      <td>Yok</td>\n",
       "      <td>1</td>\n",
       "      <td>...</td>\n",
       "      <td>Hayır</td>\n",
       "      <td>Var</td>\n",
       "      <td>Genel Fiyat</td>\n",
       "      <td>4250000</td>\n",
       "      <td>İstanbul</td>\n",
       "      <td>Beşiktaş</td>\n",
       "      <td>Nisbetiye Mahallesi</td>\n",
       "      <td>Avrupa Yakası</td>\n",
       "      <td>0.911</td>\n",
       "      <td>178.938</td>\n",
       "    </tr>\n",
       "  </tbody>\n",
       "</table>\n",
       "<p>5 rows × 27 columns</p>\n",
       "</div>"
      ],
      "text/plain": [
       "   İlan_Numarası İlan_Güncelleme_Tarihi Kategorisi  Brüt_Metrekare  \\\n",
       "0           2003         02 Şubat 2022    Satılık              190   \n",
       "1            166          14 Ocak 2022    Satılık              300   \n",
       "2            167          14 Ocak 2022    Satılık              350   \n",
       "3            115          06 Ocak 2022    Satılık              450   \n",
       "4           2879         08 Şubat 2022    Satılık              160   \n",
       "\n",
       "   Binanın_Yaşı  Binanın_Kat_Sayısı        Kullanım_Durumu Yatırıma_Uygunluk  \\\n",
       "0         5-10                   20       Kiracı Oturuyor        Bilinmiyor    \n",
       "1  21 Ve Üzeri                    2       Kiracı Oturuyor        Bilinmiyor    \n",
       "2  21 Ve Üzeri                    3  Mülk Sahibi Oturuyor        Bilinmiyor    \n",
       "3         5-10                    4       Kiracı Oturuyor        Bilinmiyor    \n",
       "4  21 Ve Üzeri                    2  Mülk Sahibi Oturuyor        Bilinmiyor    \n",
       "\n",
       "  Eşya_Durumu Banyo_Sayısı  ... Site_İçerisinde Takas  Fiyat_Durumu    Fiyatı  \\\n",
       "0         Yok           2   ...           Hayır   Var  Genel Fiyat   18000000   \n",
       "1         Yok           3   ...           Hayır   Var  Genel Fiyat    8500000   \n",
       "2         Yok           2   ...           Hayır   Var  Genel Fiyat   16500000   \n",
       "3         Yok           3   ...           Hayır   Var  Genel Fiyat   22000000   \n",
       "4         Yok           1   ...           Hayır   Var  Genel Fiyat    4250000   \n",
       "\n",
       "          İl        İlçe                Mahalle           yaka Yaşam_endeksi  \\\n",
       "0  İstanbul    Beşiktaş    Nisbetiye Mahallesi   Avrupa Yakası         0.911   \n",
       "1  İstanbul    Beşiktaş         Akat Mahallesi   Avrupa Yakası         0.911   \n",
       "2  İstanbul    Beşiktaş       Levent Mahallesi   Avrupa Yakası         0.911   \n",
       "3  İstanbul    Beşiktaş      Levazım Mahallesi   Avrupa Yakası         0.911   \n",
       "4  İstanbul    Beşiktaş    Nisbetiye Mahallesi   Avrupa Yakası         0.911   \n",
       "\n",
       "     Nüfus  \n",
       "0  178.938  \n",
       "1  178.938  \n",
       "2  178.938  \n",
       "3  178.938  \n",
       "4  178.938  \n",
       "\n",
       "[5 rows x 27 columns]"
      ]
     },
     "execution_count": 1361,
     "metadata": {},
     "output_type": "execute_result"
    }
   ],
   "source": [
    "df.head()"
   ]
  },
  {
   "cell_type": "code",
   "execution_count": 1362,
   "id": "f6001287",
   "metadata": {},
   "outputs": [
    {
     "name": "stdout",
     "output_type": "stream",
     "text": [
      "<class 'pandas.core.frame.DataFrame'>\n",
      "RangeIndex: 2983 entries, 0 to 2982\n",
      "Data columns (total 27 columns):\n",
      " #   Column                  Non-Null Count  Dtype  \n",
      "---  ------                  --------------  -----  \n",
      " 0   İlan_Numarası           2983 non-null   int64  \n",
      " 1   İlan_Güncelleme_Tarihi  2983 non-null   object \n",
      " 2   Kategorisi              2983 non-null   object \n",
      " 3   Brüt_Metrekare          2983 non-null   int64  \n",
      " 4   Binanın_Yaşı            2983 non-null   object \n",
      " 5   Binanın_Kat_Sayısı      2983 non-null   int64  \n",
      " 6   Kullanım_Durumu         2983 non-null   object \n",
      " 7   Yatırıma_Uygunluk       2983 non-null   object \n",
      " 8   Eşya_Durumu             2983 non-null   object \n",
      " 9   Banyo_Sayısı            2983 non-null   object \n",
      " 10  İlan_Oluşturma_Tarihi   2983 non-null   object \n",
      " 11  Türü                    2983 non-null   object \n",
      " 12  Net_Metrekare           2983 non-null   int64  \n",
      " 13  Oda_Sayısı              2983 non-null   object \n",
      " 14  Bulunduğu_Kat           2983 non-null   object \n",
      " 15  Isıtma_Tipi             2983 non-null   object \n",
      " 16  Krediye_Uygunluk        2983 non-null   object \n",
      " 17  Site_İçerisinde         2983 non-null   object \n",
      " 18  Takas                   2983 non-null   object \n",
      " 19  Fiyat_Durumu            2983 non-null   object \n",
      " 20  Fiyatı                  2983 non-null   int64  \n",
      " 21  İl                      2983 non-null   object \n",
      " 22  İlçe                    2983 non-null   object \n",
      " 23  Mahalle                 2983 non-null   object \n",
      " 24  yaka                    2983 non-null   object \n",
      " 25  Yaşam_endeksi           2983 non-null   float64\n",
      " 26  Nüfus                   2983 non-null   float64\n",
      "dtypes: float64(2), int64(5), object(20)\n",
      "memory usage: 629.4+ KB\n"
     ]
    }
   ],
   "source": [
    "df.info()"
   ]
  },
  {
   "cell_type": "code",
   "execution_count": 1363,
   "id": "3c96b04d",
   "metadata": {},
   "outputs": [
    {
     "data": {
      "text/plain": [
       "(2983, 27)"
      ]
     },
     "execution_count": 1363,
     "metadata": {},
     "output_type": "execute_result"
    }
   ],
   "source": [
    "df.shape"
   ]
  },
  {
   "cell_type": "code",
   "execution_count": 1364,
   "id": "d1f99cf6",
   "metadata": {
    "scrolled": true
   },
   "outputs": [
    {
     "data": {
      "text/plain": [
       "Index(['İlan_Numarası', 'İlan_Güncelleme_Tarihi', 'Kategorisi',\n",
       "       'Brüt_Metrekare', 'Binanın_Yaşı', 'Binanın_Kat_Sayısı',\n",
       "       'Kullanım_Durumu', 'Yatırıma_Uygunluk', 'Eşya_Durumu', 'Banyo_Sayısı',\n",
       "       'İlan_Oluşturma_Tarihi', 'Türü', 'Net_Metrekare', 'Oda_Sayısı',\n",
       "       'Bulunduğu_Kat', 'Isıtma_Tipi', 'Krediye_Uygunluk', 'Site_İçerisinde',\n",
       "       'Takas', 'Fiyat_Durumu', 'Fiyatı', 'İl', 'İlçe', 'Mahalle', 'yaka',\n",
       "       'Yaşam_endeksi', 'Nüfus'],\n",
       "      dtype='object')"
      ]
     },
     "execution_count": 1364,
     "metadata": {},
     "output_type": "execute_result"
    }
   ],
   "source": [
    "df.columns"
   ]
  },
  {
   "cell_type": "code",
   "execution_count": 1365,
   "id": "f685520d",
   "metadata": {},
   "outputs": [],
   "source": [
    "df.drop('İlan_Oluşturma_Tarihi', axis = 1, inplace = True)"
   ]
  },
  {
   "cell_type": "code",
   "execution_count": 1366,
   "id": "fa878d10",
   "metadata": {},
   "outputs": [],
   "source": [
    "df.drop('İlan_Güncelleme_Tarihi', axis = 1, inplace = True)"
   ]
  },
  {
   "cell_type": "code",
   "execution_count": 1367,
   "id": "73df06a6",
   "metadata": {},
   "outputs": [
    {
     "data": {
      "text/plain": [
       "False    2983\n",
       "Name: Kategorisi, dtype: int64"
      ]
     },
     "execution_count": 1367,
     "metadata": {},
     "output_type": "execute_result"
    }
   ],
   "source": [
    "df['Kategorisi'].isna().value_counts() "
   ]
  },
  {
   "cell_type": "code",
   "execution_count": 1368,
   "id": "4e12b5a0",
   "metadata": {},
   "outputs": [],
   "source": [
    "# O halde hepsi satılık. Bu sütuna ihtiyacımız yok.\n",
    "df.drop('Kategorisi',axis = 1, inplace = True)"
   ]
  },
  {
   "cell_type": "code",
   "execution_count": 1369,
   "id": "d0d6323f",
   "metadata": {},
   "outputs": [
    {
     "data": {
      "text/plain": [
       "array(['Kiracı Oturuyor ', 'Mülk Sahibi Oturuyor ', 'Boş '], dtype=object)"
      ]
     },
     "execution_count": 1369,
     "metadata": {},
     "output_type": "execute_result"
    }
   ],
   "source": [
    "df['Kullanım_Durumu'].unique() "
   ]
  },
  {
   "cell_type": "code",
   "execution_count": 1370,
   "id": "fa9793fe",
   "metadata": {},
   "outputs": [
    {
     "data": {
      "text/plain": [
       "array(['Bilinmiyor ', 'Hayır ', 'Yatırıma Uygun ', 'Evet '], dtype=object)"
      ]
     },
     "execution_count": 1370,
     "metadata": {},
     "output_type": "execute_result"
    }
   ],
   "source": [
    "df['Yatırıma_Uygunluk'].unique() "
   ]
  },
  {
   "cell_type": "code",
   "execution_count": 1371,
   "id": "420436a8",
   "metadata": {},
   "outputs": [],
   "source": [
    "df['Yatırıma_Uygunluk'].replace('Yatırıma Uygun', 'Evet', inplace=True)"
   ]
  },
  {
   "cell_type": "code",
   "execution_count": 1372,
   "id": "09182ab4",
   "metadata": {
    "scrolled": true
   },
   "outputs": [
    {
     "data": {
      "text/html": [
       "<div>\n",
       "<style scoped>\n",
       "    .dataframe tbody tr th:only-of-type {\n",
       "        vertical-align: middle;\n",
       "    }\n",
       "\n",
       "    .dataframe tbody tr th {\n",
       "        vertical-align: top;\n",
       "    }\n",
       "\n",
       "    .dataframe thead th {\n",
       "        text-align: right;\n",
       "    }\n",
       "</style>\n",
       "<table border=\"1\" class=\"dataframe\">\n",
       "  <thead>\n",
       "    <tr style=\"text-align: right;\">\n",
       "      <th></th>\n",
       "      <th>İlan_Numarası</th>\n",
       "      <th>Brüt_Metrekare</th>\n",
       "      <th>Binanın_Yaşı</th>\n",
       "      <th>Binanın_Kat_Sayısı</th>\n",
       "      <th>Kullanım_Durumu</th>\n",
       "      <th>Yatırıma_Uygunluk</th>\n",
       "      <th>Eşya_Durumu</th>\n",
       "      <th>Banyo_Sayısı</th>\n",
       "      <th>Türü</th>\n",
       "      <th>Net_Metrekare</th>\n",
       "      <th>...</th>\n",
       "      <th>Site_İçerisinde</th>\n",
       "      <th>Takas</th>\n",
       "      <th>Fiyat_Durumu</th>\n",
       "      <th>Fiyatı</th>\n",
       "      <th>İl</th>\n",
       "      <th>İlçe</th>\n",
       "      <th>Mahalle</th>\n",
       "      <th>yaka</th>\n",
       "      <th>Yaşam_endeksi</th>\n",
       "      <th>Nüfus</th>\n",
       "    </tr>\n",
       "  </thead>\n",
       "  <tbody>\n",
       "  </tbody>\n",
       "</table>\n",
       "<p>0 rows × 24 columns</p>\n",
       "</div>"
      ],
      "text/plain": [
       "Empty DataFrame\n",
       "Columns: [İlan_Numarası, Brüt_Metrekare, Binanın_Yaşı, Binanın_Kat_Sayısı, Kullanım_Durumu, Yatırıma_Uygunluk, Eşya_Durumu, Banyo_Sayısı, Türü, Net_Metrekare, Oda_Sayısı, Bulunduğu_Kat, Isıtma_Tipi, Krediye_Uygunluk, Site_İçerisinde, Takas, Fiyat_Durumu, Fiyatı, İl, İlçe, Mahalle, yaka, Yaşam_endeksi, Nüfus]\n",
       "Index: []\n",
       "\n",
       "[0 rows x 24 columns]"
      ]
     },
     "execution_count": 1372,
     "metadata": {},
     "output_type": "execute_result"
    }
   ],
   "source": [
    "df[df['Yatırıma_Uygunluk'] == 'Yatırıma Uygun']"
   ]
  },
  {
   "cell_type": "code",
   "execution_count": 1373,
   "id": "3166fc51",
   "metadata": {},
   "outputs": [
    {
     "data": {
      "text/plain": [
       "array(['Yok', 'Var'], dtype=object)"
      ]
     },
     "execution_count": 1373,
     "metadata": {},
     "output_type": "execute_result"
    }
   ],
   "source": [
    "df['Eşya_Durumu'].unique() #label encoding gerekli"
   ]
  },
  {
   "cell_type": "code",
   "execution_count": 1374,
   "id": "fb74a1af",
   "metadata": {},
   "outputs": [
    {
     "data": {
      "text/plain": [
       "array(['2 ', '3 ', '1 ', '4 ', '5 ', 'Yok ', 'Var ', '6+ ',\n",
       "       'Genel Fiyat ', '28 M2 ', '1075 ', '15 '], dtype=object)"
      ]
     },
     "execution_count": 1374,
     "metadata": {},
     "output_type": "execute_result"
    }
   ],
   "source": [
    "df['Banyo_Sayısı'].unique()"
   ]
  },
  {
   "cell_type": "code",
   "execution_count": 1375,
   "id": "7f0741b4",
   "metadata": {},
   "outputs": [],
   "source": [
    "df['Banyo_Sayısı'].replace('Genel Fiyat ', 0, inplace=True)\n",
    "df['Banyo_Sayısı'].replace('28 M2 ', 0, inplace=True)\n",
    "df['Banyo_Sayısı'].replace('1075 ', 0, inplace=True)\n",
    "df['Banyo_Sayısı'].replace('15 ', 0, inplace=True)\n",
    "df['Banyo_Sayısı'].replace('Yok ', 0, inplace = True)\n",
    "#'Var'dan kastın en az bir tane olması olduğundan 1 olarak kabul edelim.\n",
    "df['Banyo_Sayısı'].replace('Var ', 1, inplace = True)\n",
    "#6+ için de şimdilik 6 alalım.\n",
    "df['Banyo_Sayısı'].replace('6+ ', 6, inplace = True)"
   ]
  },
  {
   "cell_type": "code",
   "execution_count": 1376,
   "id": "8a93cc92",
   "metadata": {
    "scrolled": false
   },
   "outputs": [
    {
     "name": "stdout",
     "output_type": "stream",
     "text": [
      "Empty DataFrame\n",
      "Columns: [İlan_Numarası, Brüt_Metrekare, Binanın_Yaşı, Binanın_Kat_Sayısı, Kullanım_Durumu, Yatırıma_Uygunluk, Eşya_Durumu, Banyo_Sayısı, Türü, Net_Metrekare, Oda_Sayısı, Bulunduğu_Kat, Isıtma_Tipi, Krediye_Uygunluk, Site_İçerisinde, Takas, Fiyat_Durumu, Fiyatı, İl, İlçe, Mahalle, yaka, Yaşam_endeksi, Nüfus]\n",
      "Index: []\n",
      "\n",
      "[0 rows x 24 columns] Empty DataFrame\n",
      "Columns: [İlan_Numarası, Brüt_Metrekare, Binanın_Yaşı, Binanın_Kat_Sayısı, Kullanım_Durumu, Yatırıma_Uygunluk, Eşya_Durumu, Banyo_Sayısı, Türü, Net_Metrekare, Oda_Sayısı, Bulunduğu_Kat, Isıtma_Tipi, Krediye_Uygunluk, Site_İçerisinde, Takas, Fiyat_Durumu, Fiyatı, İl, İlçe, Mahalle, yaka, Yaşam_endeksi, Nüfus]\n",
      "Index: []\n",
      "\n",
      "[0 rows x 24 columns] Empty DataFrame\n",
      "Columns: [İlan_Numarası, Brüt_Metrekare, Binanın_Yaşı, Binanın_Kat_Sayısı, Kullanım_Durumu, Yatırıma_Uygunluk, Eşya_Durumu, Banyo_Sayısı, Türü, Net_Metrekare, Oda_Sayısı, Bulunduğu_Kat, Isıtma_Tipi, Krediye_Uygunluk, Site_İçerisinde, Takas, Fiyat_Durumu, Fiyatı, İl, İlçe, Mahalle, yaka, Yaşam_endeksi, Nüfus]\n",
      "Index: []\n",
      "\n",
      "[0 rows x 24 columns] Empty DataFrame\n",
      "Columns: [İlan_Numarası, Brüt_Metrekare, Binanın_Yaşı, Binanın_Kat_Sayısı, Kullanım_Durumu, Yatırıma_Uygunluk, Eşya_Durumu, Banyo_Sayısı, Türü, Net_Metrekare, Oda_Sayısı, Bulunduğu_Kat, Isıtma_Tipi, Krediye_Uygunluk, Site_İçerisinde, Takas, Fiyat_Durumu, Fiyatı, İl, İlçe, Mahalle, yaka, Yaşam_endeksi, Nüfus]\n",
      "Index: []\n",
      "\n",
      "[0 rows x 24 columns] Empty DataFrame\n",
      "Columns: [İlan_Numarası, Brüt_Metrekare, Binanın_Yaşı, Binanın_Kat_Sayısı, Kullanım_Durumu, Yatırıma_Uygunluk, Eşya_Durumu, Banyo_Sayısı, Türü, Net_Metrekare, Oda_Sayısı, Bulunduğu_Kat, Isıtma_Tipi, Krediye_Uygunluk, Site_İçerisinde, Takas, Fiyat_Durumu, Fiyatı, İl, İlçe, Mahalle, yaka, Yaşam_endeksi, Nüfus]\n",
      "Index: []\n",
      "\n",
      "[0 rows x 24 columns] Empty DataFrame\n",
      "Columns: [İlan_Numarası, Brüt_Metrekare, Binanın_Yaşı, Binanın_Kat_Sayısı, Kullanım_Durumu, Yatırıma_Uygunluk, Eşya_Durumu, Banyo_Sayısı, Türü, Net_Metrekare, Oda_Sayısı, Bulunduğu_Kat, Isıtma_Tipi, Krediye_Uygunluk, Site_İçerisinde, Takas, Fiyat_Durumu, Fiyatı, İl, İlçe, Mahalle, yaka, Yaşam_endeksi, Nüfus]\n",
      "Index: []\n",
      "\n",
      "[0 rows x 24 columns]\n"
     ]
    }
   ],
   "source": [
    "print(df[df['Banyo_Sayısı'] == 'Genel Fiyat'],\n",
    "df[df['Banyo_Sayısı'] == '28M2'],\n",
    "df[df['Banyo_Sayısı'] == '1075'],\n",
    "df[df['Banyo_Sayısı'] == '15'],\n",
    "df[df['Banyo_Sayısı'] == 'Var '],\n",
    "df[df['Banyo_Sayısı'] == 'Yok '])"
   ]
  },
  {
   "cell_type": "code",
   "execution_count": 1377,
   "id": "558968ab",
   "metadata": {},
   "outputs": [],
   "source": [
    "df['Banyo_Sayısı'] = df['Banyo_Sayısı'].astype('int64')"
   ]
  },
  {
   "cell_type": "code",
   "execution_count": 1378,
   "id": "3c3ef458",
   "metadata": {},
   "outputs": [
    {
     "data": {
      "text/plain": [
       "array(['Konut '], dtype=object)"
      ]
     },
     "execution_count": 1378,
     "metadata": {},
     "output_type": "execute_result"
    }
   ],
   "source": [
    "df['Türü'].unique()"
   ]
  },
  {
   "cell_type": "code",
   "execution_count": 1379,
   "id": "9741e9c4",
   "metadata": {},
   "outputs": [
    {
     "data": {
      "text/plain": [
       "0       False\n",
       "1       False\n",
       "2       False\n",
       "3       False\n",
       "4       False\n",
       "        ...  \n",
       "2978    False\n",
       "2979    False\n",
       "2980    False\n",
       "2981    False\n",
       "2982    False\n",
       "Name: Türü, Length: 2983, dtype: bool"
      ]
     },
     "execution_count": 1379,
     "metadata": {},
     "output_type": "execute_result"
    }
   ],
   "source": [
    "df['Türü'].isna()"
   ]
  },
  {
   "cell_type": "code",
   "execution_count": 1380,
   "id": "f63302f1",
   "metadata": {},
   "outputs": [],
   "source": [
    "# O halde hepsi konut. Bu sütuna ihtiyacımız yok.\n",
    "df.drop('Türü',axis = 1, inplace = True)"
   ]
  },
  {
   "cell_type": "code",
   "execution_count": 1381,
   "id": "2d911eb2",
   "metadata": {},
   "outputs": [
    {
     "data": {
      "text/plain": [
       "array(['5-10 ', '21 Ve Üzeri ', '16-20 ', '0 (Yeni) ', '4 ', '2 ', '1 ',\n",
       "       '11-15 ', '3 '], dtype=object)"
      ]
     },
     "execution_count": 1381,
     "metadata": {},
     "output_type": "execute_result"
    }
   ],
   "source": [
    "df['Binanın_Yaşı'].unique() "
   ]
  },
  {
   "cell_type": "code",
   "execution_count": 1382,
   "id": "af6169aa",
   "metadata": {},
   "outputs": [
    {
     "data": {
      "text/plain": [
       "array(['Klimalı ', 'Doğalgaz', 'Sobalı ', 'Yerden Isıtma ', 'Isıtma Yok '],\n",
       "      dtype=object)"
      ]
     },
     "execution_count": 1382,
     "metadata": {},
     "output_type": "execute_result"
    }
   ],
   "source": [
    "df['Isıtma_Tipi'].unique() "
   ]
  },
  {
   "cell_type": "code",
   "execution_count": 1383,
   "id": "a323e19b",
   "metadata": {},
   "outputs": [
    {
     "data": {
      "text/plain": [
       "array(['Hayır', 'Evet'], dtype=object)"
      ]
     },
     "execution_count": 1383,
     "metadata": {},
     "output_type": "execute_result"
    }
   ],
   "source": [
    "df['Site_İçerisinde'].unique() #label encoding gerekli"
   ]
  },
  {
   "cell_type": "code",
   "execution_count": 1384,
   "id": "4643a9b9",
   "metadata": {},
   "outputs": [
    {
     "data": {
      "text/plain": [
       "array(['Var'], dtype=object)"
      ]
     },
     "execution_count": 1384,
     "metadata": {},
     "output_type": "execute_result"
    }
   ],
   "source": [
    "df['Takas'].unique()"
   ]
  },
  {
   "cell_type": "code",
   "execution_count": 1385,
   "id": "533f135e",
   "metadata": {},
   "outputs": [
    {
     "data": {
      "text/plain": [
       "0       False\n",
       "1       False\n",
       "2       False\n",
       "3       False\n",
       "4       False\n",
       "        ...  \n",
       "2978    False\n",
       "2979    False\n",
       "2980    False\n",
       "2981    False\n",
       "2982    False\n",
       "Name: Takas, Length: 2983, dtype: bool"
      ]
     },
     "execution_count": 1385,
     "metadata": {},
     "output_type": "execute_result"
    }
   ],
   "source": [
    "df['Takas'].isna()"
   ]
  },
  {
   "cell_type": "code",
   "execution_count": 1386,
   "id": "154ee1b5",
   "metadata": {},
   "outputs": [],
   "source": [
    "df.drop('Takas', axis = 1, inplace = True)"
   ]
  },
  {
   "cell_type": "code",
   "execution_count": 1387,
   "id": "02312d62",
   "metadata": {},
   "outputs": [
    {
     "data": {
      "text/plain": [
       "array(['Genel Fiyat ', 'Birim Fiyat ', 'Evet ', 'Hayır '], dtype=object)"
      ]
     },
     "execution_count": 1387,
     "metadata": {},
     "output_type": "execute_result"
    }
   ],
   "source": [
    "df['Fiyat_Durumu'].unique()"
   ]
  },
  {
   "cell_type": "code",
   "execution_count": 1388,
   "id": "4b89489c",
   "metadata": {},
   "outputs": [],
   "source": [
    "df.drop('Fiyat_Durumu', axis = 1, inplace = True) #analizimiz için gerekli değil"
   ]
  },
  {
   "cell_type": "code",
   "execution_count": 1389,
   "id": "05468bf7",
   "metadata": {},
   "outputs": [
    {
     "data": {
      "text/plain": [
       "array(['1. Kat ', 'Bahçe Katı ', 'Düz Giriş ', '6. Kat ', '8. Kat ',\n",
       "       '2. Kat ', 'Çatı Katı ', '4. Kat ', '3. Kat ', 'Yüksek Giriş ',\n",
       "       '11. Kat ', '5. Kat ', '16. Kat ', '7. Kat ', '15. Kat ',\n",
       "       'Villa Tipi ', '17. Kat ', '10. Kat ', '9. Kat ', '30-40. Kat ',\n",
       "       'Kot 1 (-1). Kat ', '21. Kat ', '23. Kat ', '14. Kat ', '24. Kat ',\n",
       "       'Müstakil ', '22. Kat ', '12. Kat ', '18. Kat ', '30. Kat ',\n",
       "       '19. Kat ', '20. Kat ', 'Kot 3 (-3). Kat ', 'Çatı Dubleks ',\n",
       "       '13. Kat ', '25. Kat ', '26. Kat ', 'Kot 2 (-2). Kat ',\n",
       "       'Tam Bodrum ', '10-20. Kat ', '28. Kat ', '27. Kat ', '29. Kat '],\n",
       "      dtype=object)"
      ]
     },
     "execution_count": 1389,
     "metadata": {},
     "output_type": "execute_result"
    }
   ],
   "source": [
    "df['Bulunduğu_Kat'].unique()"
   ]
  },
  {
   "cell_type": "code",
   "execution_count": 1390,
   "id": "7d67701b",
   "metadata": {},
   "outputs": [],
   "source": [
    "df['Eşya_Durumu'] = df['Eşya_Durumu'].astype('category')"
   ]
  },
  {
   "cell_type": "code",
   "execution_count": 1391,
   "id": "6f878c56",
   "metadata": {},
   "outputs": [],
   "source": [
    "df['Site_İçerisinde'] = df['Site_İçerisinde'].astype('category')"
   ]
  },
  {
   "cell_type": "code",
   "execution_count": 1392,
   "id": "4d791001",
   "metadata": {},
   "outputs": [
    {
     "data": {
      "text/plain": [
       "array(['4+1 ', '5+1 ', '5+2 ', '6+2 ', '3+1 ', '2+1 ', '2.5+1 ', '1+1 ',\n",
       "       '6+1 ', '4+2 ', '1 Oda ', '8+ Oda ', '7+1 ', '3.5+1 ', '4.5+1 ',\n",
       "       '3+2 ', '2+2 ', 'Stüdyo ', '5+3 ', '1.5+1 ', '7+2 ', '6+4 ',\n",
       "       '2+0 ', '6+3 '], dtype=object)"
      ]
     },
     "execution_count": 1392,
     "metadata": {},
     "output_type": "execute_result"
    }
   ],
   "source": [
    "df['Oda_Sayısı'].unique()"
   ]
  },
  {
   "cell_type": "code",
   "execution_count": 1393,
   "id": "a74c778e",
   "metadata": {},
   "outputs": [],
   "source": [
    "df['Oda_Sayısı'].replace('Stüdyo ', '1+0 ', inplace=True)\n",
    "df['Oda_Sayısı'].replace('1 Oda ', '1+0 ', inplace=True)\n",
    "df['Oda_Sayısı'].replace('2.5+1 ', '2+1 ', inplace=True)\n",
    "df['Oda_Sayısı'].replace('8+ Oda ','8+1 ', inplace=True)\n",
    "df['Oda_Sayısı'].replace('3.5+1 ', '3+1 ', inplace=True)\n",
    "df['Oda_Sayısı'].replace('4.5+1 ', '4+1 ', inplace=True)\n",
    "df['Oda_Sayısı'].replace('1.5+1 ', '1+1 ', inplace=True)"
   ]
  },
  {
   "cell_type": "code",
   "execution_count": 1394,
   "id": "ebaed9d5",
   "metadata": {},
   "outputs": [
    {
     "name": "stdout",
     "output_type": "stream",
     "text": [
      "<class 'pandas.core.frame.DataFrame'>\n",
      "RangeIndex: 2983 entries, 0 to 2982\n",
      "Data columns (total 21 columns):\n",
      " #   Column              Non-Null Count  Dtype   \n",
      "---  ------              --------------  -----   \n",
      " 0   İlan_Numarası       2983 non-null   int64   \n",
      " 1   Brüt_Metrekare      2983 non-null   int64   \n",
      " 2   Binanın_Yaşı        2983 non-null   object  \n",
      " 3   Binanın_Kat_Sayısı  2983 non-null   int64   \n",
      " 4   Kullanım_Durumu     2983 non-null   object  \n",
      " 5   Yatırıma_Uygunluk   2983 non-null   object  \n",
      " 6   Eşya_Durumu         2983 non-null   category\n",
      " 7   Banyo_Sayısı        2983 non-null   int64   \n",
      " 8   Net_Metrekare       2983 non-null   int64   \n",
      " 9   Oda_Sayısı          2983 non-null   object  \n",
      " 10  Bulunduğu_Kat       2983 non-null   object  \n",
      " 11  Isıtma_Tipi         2983 non-null   object  \n",
      " 12  Krediye_Uygunluk    2983 non-null   object  \n",
      " 13  Site_İçerisinde     2983 non-null   category\n",
      " 14  Fiyatı              2983 non-null   int64   \n",
      " 15  İl                  2983 non-null   object  \n",
      " 16  İlçe                2983 non-null   object  \n",
      " 17  Mahalle             2983 non-null   object  \n",
      " 18  yaka                2983 non-null   object  \n",
      " 19  Yaşam_endeksi       2983 non-null   float64 \n",
      " 20  Nüfus               2983 non-null   float64 \n",
      "dtypes: category(2), float64(2), int64(6), object(11)\n",
      "memory usage: 449.0+ KB\n"
     ]
    }
   ],
   "source": [
    "df.info()"
   ]
  },
  {
   "cell_type": "code",
   "execution_count": 1395,
   "id": "f5a6e7bd",
   "metadata": {},
   "outputs": [
    {
     "data": {
      "image/png": "[encoded data removed]",
      "text/plain": [
       "<Figure size 1000x600 with 1 Axes>"
      ]
     },
     "metadata": {},
     "output_type": "display_data"
    },
    {
     "data": {
      "image/png": "[encoded data removed]",
      "text/plain": [
       "<Figure size 1000x600 with 1 Axes>"
      ]
     },
     "metadata": {},
     "output_type": "display_data"
    },
    {
     "data": {
      "image/png": "[encoded data removed]",
      "text/plain": [
       "<Figure size 1000x600 with 1 Axes>"
      ]
     },
     "metadata": {},
     "output_type": "display_data"
    },
    {
     "data": {
      "image/png": "[encoded data removed]",
      "text/plain": [
       "<Figure size 1000x600 with 1 Axes>"
      ]
     },
     "metadata": {},
     "output_type": "display_data"
    },
    {
     "data": {
      "image/png": "[encoded data removed]",
      "text/plain": [
       "<Figure size 1000x600 with 1 Axes>"
      ]
     },
     "metadata": {},
     "output_type": "display_data"
    },
    {
     "data": {
      "image/png": "[encoded data removed]",
      "text/plain": [
       "<Figure size 1000x600 with 1 Axes>"
      ]
     },
     "metadata": {},
     "output_type": "display_data"
    },
    {
     "data": {
      "image/png": "[encoded data removed]",
      "text/plain": [
       "<Figure size 1000x600 with 1 Axes>"
      ]
     },
     "metadata": {},
     "output_type": "display_data"
    }
   ],
   "source": [
    "cols = ['Binanın_Yaşı','Kullanım_Durumu', 'Eşya_Durumu', 'Banyo_Sayısı', 'Oda_Sayısı', 'Isıtma_Tipi', \n",
    "       'Yaşam_endeksi']\n",
    "for col in cols:\n",
    "  plt.figure(figsize=(10, 6))\n",
    "  sns.barplot(x=col, y=\"Fiyatı\", data=df)\n",
    "  plt.show()"
   ]
  },
  {
   "cell_type": "markdown",
   "id": "bcc8cdf3",
   "metadata": {},
   "source": [
    "==>\n",
    "\n",
    "Yaşam endeksi yüksek konutların fiyatı daha yüksek."
   ]
  },
  {
   "cell_type": "markdown",
   "id": "7885b3bd",
   "metadata": {},
   "source": [
    "Yerden ısıtmalı konutlar diğer ısıtma tiplerine sahip diğer konutlardan daha pahalı."
   ]
  },
  {
   "cell_type": "markdown",
   "id": "bbf5b99a",
   "metadata": {},
   "source": [
    "Özellikle 6+1, 8+ Odalı, 7+1, 5+1, 5+3 konutların fiyatları oldukça yüksek.\n",
    "En düşük fiyatlar ise  2+2, 1+1, 2+1 ve 2+0 konutlarda."
   ]
  },
  {
   "cell_type": "markdown",
   "id": "ee0ee60a",
   "metadata": {},
   "source": [
    "Genellikle banyo sayısıyla fiyatın doğru orantılı olduğu görülüyor."
   ]
  },
  {
   "cell_type": "markdown",
   "id": "c83b55dd",
   "metadata": {},
   "source": [
    "Genellikle eşyasız evlerin fiyatları daha yüksek."
   ]
  },
  {
   "cell_type": "markdown",
   "id": "c1bcb74b",
   "metadata": {},
   "source": [
    "Genellikle boş konutların fiyatları daha yüksek."
   ]
  },
  {
   "cell_type": "markdown",
   "id": "2d67fbc3",
   "metadata": {},
   "source": [
    "0 (Yeni) ve 11-15 yaş binalardaki evlerin daha yüksek fiyatlarda olması dikkat çekici."
   ]
  },
  {
   "cell_type": "code",
   "execution_count": 1396,
   "id": "b9a25150",
   "metadata": {
    "scrolled": true
   },
   "outputs": [
    {
     "name": "stderr",
     "output_type": "stream",
     "text": [
      "C:\\Users\\merve\\AppData\\Local\\Temp\\ipykernel_11972\\3997804111.py:2: FutureWarning: The default value of numeric_only in DataFrame.corr is deprecated. In a future version, it will default to False. Select only valid columns or specify the value of numeric_only to silence this warning.\n",
      "  sns.heatmap(df.corr(), annot=True)\n"
     ]
    },
    {
     "data": {
      "text/plain": [
       "<Axes: title={'center': 'Correlation Matrix'}>"
      ]
     },
     "execution_count": 1396,
     "metadata": {},
     "output_type": "execute_result"
    },
    {
     "data": {
      "image/png": "[encoded data removed]",
      "text/plain": [
       "<Figure size 640x480 with 2 Axes>"
      ]
     },
     "metadata": {},
     "output_type": "display_data"
    }
   ],
   "source": [
    "plt.title('Correlation Matrix')\n",
    "sns.heatmap(df.corr(), annot=True)  "
   ]
  },
  {
   "cell_type": "code",
   "execution_count": 1397,
   "id": "b540dad3",
   "metadata": {},
   "outputs": [],
   "source": [
    "data_sorted_by_price = df.sort_values(by='Fiyatı', ascending=False)"
   ]
  },
  {
   "cell_type": "code",
   "execution_count": 1398,
   "id": "4261183f",
   "metadata": {},
   "outputs": [
    {
     "data": {
      "text/html": [
       "<div>\n",
       "<style scoped>\n",
       "    .dataframe tbody tr th:only-of-type {\n",
       "        vertical-align: middle;\n",
       "    }\n",
       "\n",
       "    .dataframe tbody tr th {\n",
       "        vertical-align: top;\n",
       "    }\n",
       "\n",
       "    .dataframe thead th {\n",
       "        text-align: right;\n",
       "    }\n",
       "</style>\n",
       "<table border=\"1\" class=\"dataframe\">\n",
       "  <thead>\n",
       "    <tr style=\"text-align: right;\">\n",
       "      <th></th>\n",
       "      <th>İlan_Numarası</th>\n",
       "      <th>Brüt_Metrekare</th>\n",
       "      <th>Binanın_Yaşı</th>\n",
       "      <th>Binanın_Kat_Sayısı</th>\n",
       "      <th>Kullanım_Durumu</th>\n",
       "      <th>Yatırıma_Uygunluk</th>\n",
       "      <th>Eşya_Durumu</th>\n",
       "      <th>Banyo_Sayısı</th>\n",
       "      <th>Net_Metrekare</th>\n",
       "      <th>Oda_Sayısı</th>\n",
       "      <th>...</th>\n",
       "      <th>Isıtma_Tipi</th>\n",
       "      <th>Krediye_Uygunluk</th>\n",
       "      <th>Site_İçerisinde</th>\n",
       "      <th>Fiyatı</th>\n",
       "      <th>İl</th>\n",
       "      <th>İlçe</th>\n",
       "      <th>Mahalle</th>\n",
       "      <th>yaka</th>\n",
       "      <th>Yaşam_endeksi</th>\n",
       "      <th>Nüfus</th>\n",
       "    </tr>\n",
       "  </thead>\n",
       "  <tbody>\n",
       "    <tr>\n",
       "      <th>2338</th>\n",
       "      <td>1356</td>\n",
       "      <td>145</td>\n",
       "      <td>0 (Yeni)</td>\n",
       "      <td>5</td>\n",
       "      <td>Boş</td>\n",
       "      <td>Bilinmiyor</td>\n",
       "      <td>Yok</td>\n",
       "      <td>3</td>\n",
       "      <td>124</td>\n",
       "      <td>3+1</td>\n",
       "      <td>...</td>\n",
       "      <td>Doğalgaz</td>\n",
       "      <td>KREDIYE UYGUN</td>\n",
       "      <td>Hayır</td>\n",
       "      <td>1800000000</td>\n",
       "      <td>İstanbul</td>\n",
       "      <td>Maltepe</td>\n",
       "      <td>Cevizli Mahallesi</td>\n",
       "      <td>Anadolu Yakası</td>\n",
       "      <td>0.161</td>\n",
       "      <td>525.566</td>\n",
       "    </tr>\n",
       "    <tr>\n",
       "      <th>2670</th>\n",
       "      <td>476</td>\n",
       "      <td>140</td>\n",
       "      <td>0 (Yeni)</td>\n",
       "      <td>15</td>\n",
       "      <td>Boş</td>\n",
       "      <td>Hayır</td>\n",
       "      <td>Yok</td>\n",
       "      <td>2</td>\n",
       "      <td>130</td>\n",
       "      <td>3+1</td>\n",
       "      <td>...</td>\n",
       "      <td>Doğalgaz</td>\n",
       "      <td>Krediye Uygun Değil</td>\n",
       "      <td>Hayır</td>\n",
       "      <td>536000000</td>\n",
       "      <td>İstanbul</td>\n",
       "      <td>Bağcılar</td>\n",
       "      <td>Merkez Mahallesi</td>\n",
       "      <td>Avrupa Yakası</td>\n",
       "      <td>-0.190</td>\n",
       "      <td>744.351</td>\n",
       "    </tr>\n",
       "    <tr>\n",
       "      <th>2821</th>\n",
       "      <td>2336</td>\n",
       "      <td>200</td>\n",
       "      <td>21 Ve Üzeri</td>\n",
       "      <td>4</td>\n",
       "      <td>Boş</td>\n",
       "      <td>Bilinmiyor</td>\n",
       "      <td>Yok</td>\n",
       "      <td>2</td>\n",
       "      <td>153</td>\n",
       "      <td>3+2</td>\n",
       "      <td>...</td>\n",
       "      <td>Doğalgaz</td>\n",
       "      <td>KREDIYE UYGUN</td>\n",
       "      <td>Hayır</td>\n",
       "      <td>430000000</td>\n",
       "      <td>İstanbul</td>\n",
       "      <td>Sarıyer</td>\n",
       "      <td>Ayazağa Mahallesi</td>\n",
       "      <td>Avrupa Yakası</td>\n",
       "      <td>0.347</td>\n",
       "      <td>349.968</td>\n",
       "    </tr>\n",
       "    <tr>\n",
       "      <th>195</th>\n",
       "      <td>83</td>\n",
       "      <td>750</td>\n",
       "      <td>11-15</td>\n",
       "      <td>3</td>\n",
       "      <td>Mülk Sahibi Oturuyor</td>\n",
       "      <td>Bilinmiyor</td>\n",
       "      <td>Yok</td>\n",
       "      <td>6</td>\n",
       "      <td>650</td>\n",
       "      <td>5+2</td>\n",
       "      <td>...</td>\n",
       "      <td>Doğalgaz</td>\n",
       "      <td>KREDIYE UYGUN</td>\n",
       "      <td>Hayır</td>\n",
       "      <td>270000000</td>\n",
       "      <td>İstanbul</td>\n",
       "      <td>Beşiktaş</td>\n",
       "      <td>Levazım Mahallesi</td>\n",
       "      <td>Avrupa Yakası</td>\n",
       "      <td>0.911</td>\n",
       "      <td>178.938</td>\n",
       "    </tr>\n",
       "    <tr>\n",
       "      <th>2962</th>\n",
       "      <td>790</td>\n",
       "      <td>185</td>\n",
       "      <td>21 Ve Üzeri</td>\n",
       "      <td>3</td>\n",
       "      <td>Kiracı Oturuyor</td>\n",
       "      <td>Bilinmiyor</td>\n",
       "      <td>Yok</td>\n",
       "      <td>1</td>\n",
       "      <td>170</td>\n",
       "      <td>3+1</td>\n",
       "      <td>...</td>\n",
       "      <td>Doğalgaz</td>\n",
       "      <td>Krediye Uygun Değil</td>\n",
       "      <td>Hayır</td>\n",
       "      <td>250000000</td>\n",
       "      <td>İstanbul</td>\n",
       "      <td>Sarıyer</td>\n",
       "      <td>Yeniköy Mahallesi</td>\n",
       "      <td>Avrupa Yakası</td>\n",
       "      <td>0.347</td>\n",
       "      <td>349.968</td>\n",
       "    </tr>\n",
       "  </tbody>\n",
       "</table>\n",
       "<p>5 rows × 21 columns</p>\n",
       "</div>"
      ],
      "text/plain": [
       "      İlan_Numarası  Brüt_Metrekare  Binanın_Yaşı  Binanın_Kat_Sayısı  \\\n",
       "2338           1356             145     0 (Yeni)                    5   \n",
       "2670            476             140     0 (Yeni)                   15   \n",
       "2821           2336             200  21 Ve Üzeri                    4   \n",
       "195              83             750        11-15                    3   \n",
       "2962            790             185  21 Ve Üzeri                    3   \n",
       "\n",
       "            Kullanım_Durumu Yatırıma_Uygunluk Eşya_Durumu  Banyo_Sayısı  \\\n",
       "2338                   Boş        Bilinmiyor          Yok             3   \n",
       "2670                   Boş             Hayır          Yok             2   \n",
       "2821                   Boş        Bilinmiyor          Yok             2   \n",
       "195   Mülk Sahibi Oturuyor        Bilinmiyor          Yok             6   \n",
       "2962       Kiracı Oturuyor        Bilinmiyor          Yok             1   \n",
       "\n",
       "      Net_Metrekare Oda_Sayısı  ... Isıtma_Tipi      Krediye_Uygunluk  \\\n",
       "2338            124       3+1   ...    Doğalgaz        KREDIYE UYGUN    \n",
       "2670            130       3+1   ...    Doğalgaz  Krediye Uygun Değil    \n",
       "2821            153       3+2   ...    Doğalgaz        KREDIYE UYGUN    \n",
       "195             650       5+2   ...    Doğalgaz        KREDIYE UYGUN    \n",
       "2962            170       3+1   ...    Doğalgaz  Krediye Uygun Değil    \n",
       "\n",
       "     Site_İçerisinde      Fiyatı         İl        İlçe              Mahalle  \\\n",
       "2338           Hayır  1800000000  İstanbul     Maltepe    Cevizli Mahallesi    \n",
       "2670           Hayır   536000000  İstanbul    Bağcılar     Merkez Mahallesi    \n",
       "2821           Hayır   430000000  İstanbul     Sarıyer    Ayazağa Mahallesi    \n",
       "195            Hayır   270000000  İstanbul    Beşiktaş    Levazım Mahallesi    \n",
       "2962           Hayır   250000000  İstanbul     Sarıyer    Yeniköy Mahallesi    \n",
       "\n",
       "                yaka Yaşam_endeksi    Nüfus  \n",
       "2338  Anadolu Yakası         0.161  525.566  \n",
       "2670   Avrupa Yakası        -0.190  744.351  \n",
       "2821   Avrupa Yakası         0.347  349.968  \n",
       "195    Avrupa Yakası         0.911  178.938  \n",
       "2962   Avrupa Yakası         0.347  349.968  \n",
       "\n",
       "[5 rows x 21 columns]"
      ]
     },
     "execution_count": 1398,
     "metadata": {},
     "output_type": "execute_result"
    }
   ],
   "source": [
    "data_sorted_by_price.head()"
   ]
  },
  {
   "cell_type": "code",
   "execution_count": 1399,
   "id": "8a8d7679",
   "metadata": {},
   "outputs": [
    {
     "data": {
      "text/html": [
       "<div>\n",
       "<style scoped>\n",
       "    .dataframe tbody tr th:only-of-type {\n",
       "        vertical-align: middle;\n",
       "    }\n",
       "\n",
       "    .dataframe tbody tr th {\n",
       "        vertical-align: top;\n",
       "    }\n",
       "\n",
       "    .dataframe thead th {\n",
       "        text-align: right;\n",
       "    }\n",
       "</style>\n",
       "<table border=\"1\" class=\"dataframe\">\n",
       "  <thead>\n",
       "    <tr style=\"text-align: right;\">\n",
       "      <th></th>\n",
       "      <th>İlan_Numarası</th>\n",
       "      <th>Brüt_Metrekare</th>\n",
       "      <th>Binanın_Yaşı</th>\n",
       "      <th>Binanın_Kat_Sayısı</th>\n",
       "      <th>Kullanım_Durumu</th>\n",
       "      <th>Yatırıma_Uygunluk</th>\n",
       "      <th>Eşya_Durumu</th>\n",
       "      <th>Banyo_Sayısı</th>\n",
       "      <th>Net_Metrekare</th>\n",
       "      <th>Oda_Sayısı</th>\n",
       "      <th>...</th>\n",
       "      <th>Isıtma_Tipi</th>\n",
       "      <th>Krediye_Uygunluk</th>\n",
       "      <th>Site_İçerisinde</th>\n",
       "      <th>Fiyatı</th>\n",
       "      <th>İl</th>\n",
       "      <th>İlçe</th>\n",
       "      <th>Mahalle</th>\n",
       "      <th>yaka</th>\n",
       "      <th>Yaşam_endeksi</th>\n",
       "      <th>Nüfus</th>\n",
       "    </tr>\n",
       "  </thead>\n",
       "  <tbody>\n",
       "    <tr>\n",
       "      <th>573</th>\n",
       "      <td>1478</td>\n",
       "      <td>70</td>\n",
       "      <td>21 Ve Üzeri</td>\n",
       "      <td>3</td>\n",
       "      <td>Boş</td>\n",
       "      <td>Bilinmiyor</td>\n",
       "      <td>Yok</td>\n",
       "      <td>1</td>\n",
       "      <td>60</td>\n",
       "      <td>1+1</td>\n",
       "      <td>...</td>\n",
       "      <td>Doğalgaz</td>\n",
       "      <td>Krediye Uygun Değil</td>\n",
       "      <td>Hayır</td>\n",
       "      <td>210000</td>\n",
       "      <td>İstanbul</td>\n",
       "      <td>Bahçelievler</td>\n",
       "      <td>Soğanlı Mahallesi</td>\n",
       "      <td>Avrupa Yakası</td>\n",
       "      <td>0.053</td>\n",
       "      <td>605.300</td>\n",
       "    </tr>\n",
       "    <tr>\n",
       "      <th>2407</th>\n",
       "      <td>966</td>\n",
       "      <td>80</td>\n",
       "      <td>21 Ve Üzeri</td>\n",
       "      <td>7</td>\n",
       "      <td>Boş</td>\n",
       "      <td>Bilinmiyor</td>\n",
       "      <td>Yok</td>\n",
       "      <td>1</td>\n",
       "      <td>70</td>\n",
       "      <td>2+1</td>\n",
       "      <td>...</td>\n",
       "      <td>Isıtma Yok</td>\n",
       "      <td>Krediye Uygun Değil</td>\n",
       "      <td>Hayır</td>\n",
       "      <td>195000</td>\n",
       "      <td>İstanbul</td>\n",
       "      <td>Maltepe</td>\n",
       "      <td>Zümrütevler Mahallesi</td>\n",
       "      <td>Anadolu Yakası</td>\n",
       "      <td>0.161</td>\n",
       "      <td>525.566</td>\n",
       "    </tr>\n",
       "    <tr>\n",
       "      <th>520</th>\n",
       "      <td>2205</td>\n",
       "      <td>76</td>\n",
       "      <td>21 Ve Üzeri</td>\n",
       "      <td>4</td>\n",
       "      <td>Kiracı Oturuyor</td>\n",
       "      <td>Hayır</td>\n",
       "      <td>Var</td>\n",
       "      <td>1</td>\n",
       "      <td>60</td>\n",
       "      <td>1+1</td>\n",
       "      <td>...</td>\n",
       "      <td>Sobalı</td>\n",
       "      <td>Krediye Uygun Değil</td>\n",
       "      <td>Hayır</td>\n",
       "      <td>182000</td>\n",
       "      <td>İstanbul</td>\n",
       "      <td>Bahçelievler</td>\n",
       "      <td>Yenibosna Merkez Mahallesi</td>\n",
       "      <td>Avrupa Yakası</td>\n",
       "      <td>0.053</td>\n",
       "      <td>605.300</td>\n",
       "    </tr>\n",
       "    <tr>\n",
       "      <th>2567</th>\n",
       "      <td>1431</td>\n",
       "      <td>80</td>\n",
       "      <td>21 Ve Üzeri</td>\n",
       "      <td>5</td>\n",
       "      <td>Kiracı Oturuyor</td>\n",
       "      <td>Bilinmiyor</td>\n",
       "      <td>Yok</td>\n",
       "      <td>1</td>\n",
       "      <td>70</td>\n",
       "      <td>2+1</td>\n",
       "      <td>...</td>\n",
       "      <td>Sobalı</td>\n",
       "      <td>Krediye Uygun Değil</td>\n",
       "      <td>Hayır</td>\n",
       "      <td>179000</td>\n",
       "      <td>İstanbul</td>\n",
       "      <td>Bağcılar</td>\n",
       "      <td>15 Temmuz Mahallesi</td>\n",
       "      <td>Avrupa Yakası</td>\n",
       "      <td>-0.190</td>\n",
       "      <td>744.351</td>\n",
       "    </tr>\n",
       "    <tr>\n",
       "      <th>2681</th>\n",
       "      <td>426</td>\n",
       "      <td>100</td>\n",
       "      <td>0 (Yeni)</td>\n",
       "      <td>5</td>\n",
       "      <td>Boş</td>\n",
       "      <td>Bilinmiyor</td>\n",
       "      <td>Yok</td>\n",
       "      <td>1</td>\n",
       "      <td>80</td>\n",
       "      <td>2+1</td>\n",
       "      <td>...</td>\n",
       "      <td>Doğalgaz</td>\n",
       "      <td>KREDIYE UYGUN</td>\n",
       "      <td>Hayır</td>\n",
       "      <td>169000</td>\n",
       "      <td>İstanbul</td>\n",
       "      <td>Bağcılar</td>\n",
       "      <td>Demirkapı Mahallesi</td>\n",
       "      <td>Avrupa Yakası</td>\n",
       "      <td>-0.190</td>\n",
       "      <td>744.351</td>\n",
       "    </tr>\n",
       "  </tbody>\n",
       "</table>\n",
       "<p>5 rows × 21 columns</p>\n",
       "</div>"
      ],
      "text/plain": [
       "      İlan_Numarası  Brüt_Metrekare  Binanın_Yaşı  Binanın_Kat_Sayısı  \\\n",
       "573            1478              70  21 Ve Üzeri                    3   \n",
       "2407            966              80  21 Ve Üzeri                    7   \n",
       "520            2205              76  21 Ve Üzeri                    4   \n",
       "2567           1431              80  21 Ve Üzeri                    5   \n",
       "2681            426             100     0 (Yeni)                    5   \n",
       "\n",
       "       Kullanım_Durumu Yatırıma_Uygunluk Eşya_Durumu  Banyo_Sayısı  \\\n",
       "573               Boş        Bilinmiyor          Yok             1   \n",
       "2407              Boş        Bilinmiyor          Yok             1   \n",
       "520   Kiracı Oturuyor             Hayır          Var             1   \n",
       "2567  Kiracı Oturuyor        Bilinmiyor          Yok             1   \n",
       "2681              Boş        Bilinmiyor          Yok             1   \n",
       "\n",
       "      Net_Metrekare Oda_Sayısı  ...  Isıtma_Tipi      Krediye_Uygunluk  \\\n",
       "573              60       1+1   ...     Doğalgaz  Krediye Uygun Değil    \n",
       "2407             70       2+1   ...  Isıtma Yok   Krediye Uygun Değil    \n",
       "520              60       1+1   ...      Sobalı   Krediye Uygun Değil    \n",
       "2567             70       2+1   ...      Sobalı   Krediye Uygun Değil    \n",
       "2681             80       2+1   ...     Doğalgaz        KREDIYE UYGUN    \n",
       "\n",
       "     Site_İçerisinde  Fiyatı         İl            İlçe  \\\n",
       "573            Hayır  210000  İstanbul    Bahçelievler    \n",
       "2407           Hayır  195000  İstanbul         Maltepe    \n",
       "520            Hayır  182000  İstanbul    Bahçelievler    \n",
       "2567           Hayır  179000  İstanbul        Bağcılar    \n",
       "2681           Hayır  169000  İstanbul        Bağcılar    \n",
       "\n",
       "                           Mahalle            yaka Yaşam_endeksi    Nüfus  \n",
       "573             Soğanlı Mahallesi    Avrupa Yakası         0.053  605.300  \n",
       "2407        Zümrütevler Mahallesi   Anadolu Yakası         0.161  525.566  \n",
       "520    Yenibosna Merkez Mahallesi    Avrupa Yakası         0.053  605.300  \n",
       "2567          15 Temmuz Mahallesi    Avrupa Yakası        -0.190  744.351  \n",
       "2681          Demirkapı Mahallesi    Avrupa Yakası        -0.190  744.351  \n",
       "\n",
       "[5 rows x 21 columns]"
      ]
     },
     "execution_count": 1399,
     "metadata": {},
     "output_type": "execute_result"
    }
   ],
   "source": [
    "data_sorted_by_price.tail()"
   ]
  },
  {
   "cell_type": "code",
   "execution_count": 1400,
   "id": "eb5b3308",
   "metadata": {},
   "outputs": [],
   "source": [
    "avrupa_yakasi_evler = df[df['yaka'].str.contains('Avrupa Yakası', case=False)]\n",
    "anadolu_yakasi_evler = df[df['yaka'].str.contains('Anadolu Yakası', case=False)]"
   ]
  },
  {
   "cell_type": "code",
   "execution_count": 1401,
   "id": "4f5ffe8f",
   "metadata": {
    "scrolled": true
   },
   "outputs": [
    {
     "data": {
      "text/html": [
       "<div>\n",
       "<style scoped>\n",
       "    .dataframe tbody tr th:only-of-type {\n",
       "        vertical-align: middle;\n",
       "    }\n",
       "\n",
       "    .dataframe tbody tr th {\n",
       "        vertical-align: top;\n",
       "    }\n",
       "\n",
       "    .dataframe thead th {\n",
       "        text-align: right;\n",
       "    }\n",
       "</style>\n",
       "<table border=\"1\" class=\"dataframe\">\n",
       "  <thead>\n",
       "    <tr style=\"text-align: right;\">\n",
       "      <th></th>\n",
       "      <th>İlan_Numarası</th>\n",
       "      <th>Brüt_Metrekare</th>\n",
       "      <th>Binanın_Yaşı</th>\n",
       "      <th>Binanın_Kat_Sayısı</th>\n",
       "      <th>Kullanım_Durumu</th>\n",
       "      <th>Yatırıma_Uygunluk</th>\n",
       "      <th>Eşya_Durumu</th>\n",
       "      <th>Banyo_Sayısı</th>\n",
       "      <th>Net_Metrekare</th>\n",
       "      <th>Oda_Sayısı</th>\n",
       "      <th>...</th>\n",
       "      <th>Isıtma_Tipi</th>\n",
       "      <th>Krediye_Uygunluk</th>\n",
       "      <th>Site_İçerisinde</th>\n",
       "      <th>Fiyatı</th>\n",
       "      <th>İl</th>\n",
       "      <th>İlçe</th>\n",
       "      <th>Mahalle</th>\n",
       "      <th>yaka</th>\n",
       "      <th>Yaşam_endeksi</th>\n",
       "      <th>Nüfus</th>\n",
       "    </tr>\n",
       "  </thead>\n",
       "  <tbody>\n",
       "    <tr>\n",
       "      <th>0</th>\n",
       "      <td>2003</td>\n",
       "      <td>190</td>\n",
       "      <td>5-10</td>\n",
       "      <td>20</td>\n",
       "      <td>Kiracı Oturuyor</td>\n",
       "      <td>Bilinmiyor</td>\n",
       "      <td>Yok</td>\n",
       "      <td>2</td>\n",
       "      <td>168</td>\n",
       "      <td>4+1</td>\n",
       "      <td>...</td>\n",
       "      <td>Klimalı</td>\n",
       "      <td>KREDIYE UYGUN</td>\n",
       "      <td>Hayır</td>\n",
       "      <td>18000000</td>\n",
       "      <td>İstanbul</td>\n",
       "      <td>Beşiktaş</td>\n",
       "      <td>Nisbetiye Mahallesi</td>\n",
       "      <td>Avrupa Yakası</td>\n",
       "      <td>0.911</td>\n",
       "      <td>178.938</td>\n",
       "    </tr>\n",
       "    <tr>\n",
       "      <th>1</th>\n",
       "      <td>166</td>\n",
       "      <td>300</td>\n",
       "      <td>21 Ve Üzeri</td>\n",
       "      <td>2</td>\n",
       "      <td>Kiracı Oturuyor</td>\n",
       "      <td>Bilinmiyor</td>\n",
       "      <td>Yok</td>\n",
       "      <td>3</td>\n",
       "      <td>270</td>\n",
       "      <td>5+1</td>\n",
       "      <td>...</td>\n",
       "      <td>Doğalgaz</td>\n",
       "      <td>KREDIYE UYGUN</td>\n",
       "      <td>Hayır</td>\n",
       "      <td>8500000</td>\n",
       "      <td>İstanbul</td>\n",
       "      <td>Beşiktaş</td>\n",
       "      <td>Akat Mahallesi</td>\n",
       "      <td>Avrupa Yakası</td>\n",
       "      <td>0.911</td>\n",
       "      <td>178.938</td>\n",
       "    </tr>\n",
       "    <tr>\n",
       "      <th>2</th>\n",
       "      <td>167</td>\n",
       "      <td>350</td>\n",
       "      <td>21 Ve Üzeri</td>\n",
       "      <td>3</td>\n",
       "      <td>Mülk Sahibi Oturuyor</td>\n",
       "      <td>Bilinmiyor</td>\n",
       "      <td>Yok</td>\n",
       "      <td>2</td>\n",
       "      <td>320</td>\n",
       "      <td>5+2</td>\n",
       "      <td>...</td>\n",
       "      <td>Doğalgaz</td>\n",
       "      <td>KREDIYE UYGUN</td>\n",
       "      <td>Hayır</td>\n",
       "      <td>16500000</td>\n",
       "      <td>İstanbul</td>\n",
       "      <td>Beşiktaş</td>\n",
       "      <td>Levent Mahallesi</td>\n",
       "      <td>Avrupa Yakası</td>\n",
       "      <td>0.911</td>\n",
       "      <td>178.938</td>\n",
       "    </tr>\n",
       "    <tr>\n",
       "      <th>3</th>\n",
       "      <td>115</td>\n",
       "      <td>450</td>\n",
       "      <td>5-10</td>\n",
       "      <td>4</td>\n",
       "      <td>Kiracı Oturuyor</td>\n",
       "      <td>Bilinmiyor</td>\n",
       "      <td>Yok</td>\n",
       "      <td>3</td>\n",
       "      <td>400</td>\n",
       "      <td>6+2</td>\n",
       "      <td>...</td>\n",
       "      <td>Doğalgaz</td>\n",
       "      <td>KREDIYE UYGUN</td>\n",
       "      <td>Hayır</td>\n",
       "      <td>22000000</td>\n",
       "      <td>İstanbul</td>\n",
       "      <td>Beşiktaş</td>\n",
       "      <td>Levazım Mahallesi</td>\n",
       "      <td>Avrupa Yakası</td>\n",
       "      <td>0.911</td>\n",
       "      <td>178.938</td>\n",
       "    </tr>\n",
       "    <tr>\n",
       "      <th>4</th>\n",
       "      <td>2879</td>\n",
       "      <td>160</td>\n",
       "      <td>21 Ve Üzeri</td>\n",
       "      <td>2</td>\n",
       "      <td>Mülk Sahibi Oturuyor</td>\n",
       "      <td>Bilinmiyor</td>\n",
       "      <td>Yok</td>\n",
       "      <td>1</td>\n",
       "      <td>140</td>\n",
       "      <td>3+1</td>\n",
       "      <td>...</td>\n",
       "      <td>Doğalgaz</td>\n",
       "      <td>KREDIYE UYGUN</td>\n",
       "      <td>Hayır</td>\n",
       "      <td>4250000</td>\n",
       "      <td>İstanbul</td>\n",
       "      <td>Beşiktaş</td>\n",
       "      <td>Nisbetiye Mahallesi</td>\n",
       "      <td>Avrupa Yakası</td>\n",
       "      <td>0.911</td>\n",
       "      <td>178.938</td>\n",
       "    </tr>\n",
       "  </tbody>\n",
       "</table>\n",
       "<p>5 rows × 21 columns</p>\n",
       "</div>"
      ],
      "text/plain": [
       "   İlan_Numarası  Brüt_Metrekare  Binanın_Yaşı  Binanın_Kat_Sayısı  \\\n",
       "0           2003             190         5-10                   20   \n",
       "1            166             300  21 Ve Üzeri                    2   \n",
       "2            167             350  21 Ve Üzeri                    3   \n",
       "3            115             450         5-10                    4   \n",
       "4           2879             160  21 Ve Üzeri                    2   \n",
       "\n",
       "         Kullanım_Durumu Yatırıma_Uygunluk Eşya_Durumu  Banyo_Sayısı  \\\n",
       "0       Kiracı Oturuyor        Bilinmiyor          Yok             2   \n",
       "1       Kiracı Oturuyor        Bilinmiyor          Yok             3   \n",
       "2  Mülk Sahibi Oturuyor        Bilinmiyor          Yok             2   \n",
       "3       Kiracı Oturuyor        Bilinmiyor          Yok             3   \n",
       "4  Mülk Sahibi Oturuyor        Bilinmiyor          Yok             1   \n",
       "\n",
       "   Net_Metrekare Oda_Sayısı  ... Isıtma_Tipi Krediye_Uygunluk Site_İçerisinde  \\\n",
       "0            168       4+1   ...    Klimalı    KREDIYE UYGUN            Hayır   \n",
       "1            270       5+1   ...    Doğalgaz   KREDIYE UYGUN            Hayır   \n",
       "2            320       5+2   ...    Doğalgaz   KREDIYE UYGUN            Hayır   \n",
       "3            400       6+2   ...    Doğalgaz   KREDIYE UYGUN            Hayır   \n",
       "4            140       3+1   ...    Doğalgaz   KREDIYE UYGUN            Hayır   \n",
       "\n",
       "     Fiyatı         İl        İlçe                Mahalle           yaka  \\\n",
       "0  18000000  İstanbul    Beşiktaş    Nisbetiye Mahallesi   Avrupa Yakası   \n",
       "1   8500000  İstanbul    Beşiktaş         Akat Mahallesi   Avrupa Yakası   \n",
       "2  16500000  İstanbul    Beşiktaş       Levent Mahallesi   Avrupa Yakası   \n",
       "3  22000000  İstanbul    Beşiktaş      Levazım Mahallesi   Avrupa Yakası   \n",
       "4   4250000  İstanbul    Beşiktaş    Nisbetiye Mahallesi   Avrupa Yakası   \n",
       "\n",
       "  Yaşam_endeksi    Nüfus  \n",
       "0         0.911  178.938  \n",
       "1         0.911  178.938  \n",
       "2         0.911  178.938  \n",
       "3         0.911  178.938  \n",
       "4         0.911  178.938  \n",
       "\n",
       "[5 rows x 21 columns]"
      ]
     },
     "execution_count": 1401,
     "metadata": {},
     "output_type": "execute_result"
    }
   ],
   "source": [
    "avrupa_yakasi_evler.head()"
   ]
  },
  {
   "cell_type": "code",
   "execution_count": 1402,
   "id": "6012584e",
   "metadata": {},
   "outputs": [
    {
     "data": {
      "text/plain": [
       "(2091, 21)"
      ]
     },
     "execution_count": 1402,
     "metadata": {},
     "output_type": "execute_result"
    }
   ],
   "source": [
    "avrupa_yakasi_evler.shape"
   ]
  },
  {
   "cell_type": "code",
   "execution_count": 1403,
   "id": "606844e3",
   "metadata": {},
   "outputs": [
    {
     "data": {
      "text/html": [
       "<div>\n",
       "<style scoped>\n",
       "    .dataframe tbody tr th:only-of-type {\n",
       "        vertical-align: middle;\n",
       "    }\n",
       "\n",
       "    .dataframe tbody tr th {\n",
       "        vertical-align: top;\n",
       "    }\n",
       "\n",
       "    .dataframe thead th {\n",
       "        text-align: right;\n",
       "    }\n",
       "</style>\n",
       "<table border=\"1\" class=\"dataframe\">\n",
       "  <thead>\n",
       "    <tr style=\"text-align: right;\">\n",
       "      <th></th>\n",
       "      <th>İlan_Numarası</th>\n",
       "      <th>Brüt_Metrekare</th>\n",
       "      <th>Binanın_Yaşı</th>\n",
       "      <th>Binanın_Kat_Sayısı</th>\n",
       "      <th>Kullanım_Durumu</th>\n",
       "      <th>Yatırıma_Uygunluk</th>\n",
       "      <th>Eşya_Durumu</th>\n",
       "      <th>Banyo_Sayısı</th>\n",
       "      <th>Net_Metrekare</th>\n",
       "      <th>Oda_Sayısı</th>\n",
       "      <th>...</th>\n",
       "      <th>Isıtma_Tipi</th>\n",
       "      <th>Krediye_Uygunluk</th>\n",
       "      <th>Site_İçerisinde</th>\n",
       "      <th>Fiyatı</th>\n",
       "      <th>İl</th>\n",
       "      <th>İlçe</th>\n",
       "      <th>Mahalle</th>\n",
       "      <th>yaka</th>\n",
       "      <th>Yaşam_endeksi</th>\n",
       "      <th>Nüfus</th>\n",
       "    </tr>\n",
       "  </thead>\n",
       "  <tbody>\n",
       "    <tr>\n",
       "      <th>1234</th>\n",
       "      <td>2949</td>\n",
       "      <td>240</td>\n",
       "      <td>16-20</td>\n",
       "      <td>10</td>\n",
       "      <td>Mülk Sahibi Oturuyor</td>\n",
       "      <td>Bilinmiyor</td>\n",
       "      <td>Yok</td>\n",
       "      <td>3</td>\n",
       "      <td>239</td>\n",
       "      <td>4+1</td>\n",
       "      <td>...</td>\n",
       "      <td>Doğalgaz</td>\n",
       "      <td>KREDIYE UYGUN</td>\n",
       "      <td>Hayır</td>\n",
       "      <td>5750000</td>\n",
       "      <td>İstanbul</td>\n",
       "      <td>Kadıköy</td>\n",
       "      <td>Erenköy Mahallesi</td>\n",
       "      <td>Anadolu Yakası</td>\n",
       "      <td>0.886</td>\n",
       "      <td>485.233</td>\n",
       "    </tr>\n",
       "    <tr>\n",
       "      <th>1235</th>\n",
       "      <td>2930</td>\n",
       "      <td>130</td>\n",
       "      <td>21 Ve Üzeri</td>\n",
       "      <td>10</td>\n",
       "      <td>Mülk Sahibi Oturuyor</td>\n",
       "      <td>Bilinmiyor</td>\n",
       "      <td>Yok</td>\n",
       "      <td>1</td>\n",
       "      <td>100</td>\n",
       "      <td>3+1</td>\n",
       "      <td>...</td>\n",
       "      <td>Doğalgaz</td>\n",
       "      <td>KREDIYE UYGUN</td>\n",
       "      <td>Hayır</td>\n",
       "      <td>3100000</td>\n",
       "      <td>İstanbul</td>\n",
       "      <td>Kadıköy</td>\n",
       "      <td>19 Mayıs Mahallesi</td>\n",
       "      <td>Anadolu Yakası</td>\n",
       "      <td>0.886</td>\n",
       "      <td>485.233</td>\n",
       "    </tr>\n",
       "    <tr>\n",
       "      <th>1236</th>\n",
       "      <td>2881</td>\n",
       "      <td>240</td>\n",
       "      <td>5-10</td>\n",
       "      <td>9</td>\n",
       "      <td>Mülk Sahibi Oturuyor</td>\n",
       "      <td>Hayır</td>\n",
       "      <td>Yok</td>\n",
       "      <td>2</td>\n",
       "      <td>190</td>\n",
       "      <td>4+2</td>\n",
       "      <td>...</td>\n",
       "      <td>Doğalgaz</td>\n",
       "      <td>KREDIYE UYGUN</td>\n",
       "      <td>Hayır</td>\n",
       "      <td>13895000</td>\n",
       "      <td>İstanbul</td>\n",
       "      <td>Kadıköy</td>\n",
       "      <td>Suadiye Mahallesi</td>\n",
       "      <td>Anadolu Yakası</td>\n",
       "      <td>0.886</td>\n",
       "      <td>485.233</td>\n",
       "    </tr>\n",
       "    <tr>\n",
       "      <th>1237</th>\n",
       "      <td>2880</td>\n",
       "      <td>155</td>\n",
       "      <td>21 Ve Üzeri</td>\n",
       "      <td>7</td>\n",
       "      <td>Boş</td>\n",
       "      <td>Hayır</td>\n",
       "      <td>Yok</td>\n",
       "      <td>2</td>\n",
       "      <td>125</td>\n",
       "      <td>3+1</td>\n",
       "      <td>...</td>\n",
       "      <td>Doğalgaz</td>\n",
       "      <td>KREDIYE UYGUN</td>\n",
       "      <td>Hayır</td>\n",
       "      <td>4395000</td>\n",
       "      <td>İstanbul</td>\n",
       "      <td>Kadıköy</td>\n",
       "      <td>Erenköy Mahallesi</td>\n",
       "      <td>Anadolu Yakası</td>\n",
       "      <td>0.886</td>\n",
       "      <td>485.233</td>\n",
       "    </tr>\n",
       "    <tr>\n",
       "      <th>1238</th>\n",
       "      <td>2955</td>\n",
       "      <td>115</td>\n",
       "      <td>4</td>\n",
       "      <td>8</td>\n",
       "      <td>Mülk Sahibi Oturuyor</td>\n",
       "      <td>Bilinmiyor</td>\n",
       "      <td>Yok</td>\n",
       "      <td>1</td>\n",
       "      <td>87</td>\n",
       "      <td>3+1</td>\n",
       "      <td>...</td>\n",
       "      <td>Doğalgaz</td>\n",
       "      <td>KREDIYE UYGUN</td>\n",
       "      <td>Hayır</td>\n",
       "      <td>3500000</td>\n",
       "      <td>İstanbul</td>\n",
       "      <td>Kadıköy</td>\n",
       "      <td>Zühtüpaşa Mahallesi</td>\n",
       "      <td>Anadolu Yakası</td>\n",
       "      <td>0.886</td>\n",
       "      <td>485.233</td>\n",
       "    </tr>\n",
       "  </tbody>\n",
       "</table>\n",
       "<p>5 rows × 21 columns</p>\n",
       "</div>"
      ],
      "text/plain": [
       "      İlan_Numarası  Brüt_Metrekare  Binanın_Yaşı  Binanın_Kat_Sayısı  \\\n",
       "1234           2949             240        16-20                   10   \n",
       "1235           2930             130  21 Ve Üzeri                   10   \n",
       "1236           2881             240         5-10                    9   \n",
       "1237           2880             155  21 Ve Üzeri                    7   \n",
       "1238           2955             115            4                    8   \n",
       "\n",
       "            Kullanım_Durumu Yatırıma_Uygunluk Eşya_Durumu  Banyo_Sayısı  \\\n",
       "1234  Mülk Sahibi Oturuyor        Bilinmiyor          Yok             3   \n",
       "1235  Mülk Sahibi Oturuyor        Bilinmiyor          Yok             1   \n",
       "1236  Mülk Sahibi Oturuyor             Hayır          Yok             2   \n",
       "1237                   Boş             Hayır          Yok             2   \n",
       "1238  Mülk Sahibi Oturuyor        Bilinmiyor          Yok             1   \n",
       "\n",
       "      Net_Metrekare Oda_Sayısı  ... Isıtma_Tipi Krediye_Uygunluk  \\\n",
       "1234            239       4+1   ...    Doğalgaz   KREDIYE UYGUN    \n",
       "1235            100       3+1   ...    Doğalgaz   KREDIYE UYGUN    \n",
       "1236            190       4+2   ...    Doğalgaz   KREDIYE UYGUN    \n",
       "1237            125       3+1   ...    Doğalgaz   KREDIYE UYGUN    \n",
       "1238             87       3+1   ...    Doğalgaz   KREDIYE UYGUN    \n",
       "\n",
       "     Site_İçerisinde    Fiyatı         İl       İlçe                Mahalle  \\\n",
       "1234           Hayır   5750000  İstanbul    Kadıköy      Erenköy Mahallesi    \n",
       "1235           Hayır   3100000  İstanbul    Kadıköy     19 Mayıs Mahallesi    \n",
       "1236           Hayır  13895000  İstanbul    Kadıköy      Suadiye Mahallesi    \n",
       "1237           Hayır   4395000  İstanbul    Kadıköy      Erenköy Mahallesi    \n",
       "1238           Hayır   3500000  İstanbul    Kadıköy    Zühtüpaşa Mahallesi    \n",
       "\n",
       "                yaka Yaşam_endeksi    Nüfus  \n",
       "1234  Anadolu Yakası         0.886  485.233  \n",
       "1235  Anadolu Yakası         0.886  485.233  \n",
       "1236  Anadolu Yakası         0.886  485.233  \n",
       "1237  Anadolu Yakası         0.886  485.233  \n",
       "1238  Anadolu Yakası         0.886  485.233  \n",
       "\n",
       "[5 rows x 21 columns]"
      ]
     },
     "execution_count": 1403,
     "metadata": {},
     "output_type": "execute_result"
    }
   ],
   "source": [
    "anadolu_yakasi_evler.head()"
   ]
  },
  {
   "cell_type": "code",
   "execution_count": 1404,
   "id": "d2a57273",
   "metadata": {},
   "outputs": [
    {
     "data": {
      "text/plain": [
       "(892, 21)"
      ]
     },
     "execution_count": 1404,
     "metadata": {},
     "output_type": "execute_result"
    }
   ],
   "source": [
    "anadolu_yakasi_evler.shape"
   ]
  },
  {
   "cell_type": "markdown",
   "id": "5e4e6d44",
   "metadata": {},
   "source": [
    "İlanlarda Avrupa Yakasındaki konutlar çoğunlukta."
   ]
  },
  {
   "cell_type": "code",
   "execution_count": 1405,
   "id": "1a9491ba",
   "metadata": {},
   "outputs": [
    {
     "data": {
      "text/plain": [
       "' Başakşehir '"
      ]
     },
     "execution_count": 1405,
     "metadata": {},
     "output_type": "execute_result"
    }
   ],
   "source": [
    "df['İlçe'].value_counts().idxmax()"
   ]
  },
  {
   "cell_type": "code",
   "execution_count": 1406,
   "id": "626a918c",
   "metadata": {},
   "outputs": [
    {
     "name": "stderr",
     "output_type": "stream",
     "text": [
      "C:\\Users\\merve\\AppData\\Local\\Temp\\ipykernel_11972\\2744316928.py:1: FutureWarning: The default value of regex will change from True to False in a future version.\n",
      "  df['Oda_Sayısı'] = df['Oda_Sayısı'].str.replace(r'\\+.*', '').str.strip()\n"
     ]
    }
   ],
   "source": [
    "df['Oda_Sayısı'] = df['Oda_Sayısı'].str.replace(r'\\+.*', '').str.strip()\n",
    "df['Oda_Sayısı'] = df['Oda_Sayısı'].astype(int)\n",
    "oda_sayisi_sayilari = df['Oda_Sayısı'].value_counts()"
   ]
  },
  {
   "cell_type": "code",
   "execution_count": 1407,
   "id": "0613bc37",
   "metadata": {},
   "outputs": [
    {
     "data": {
      "image/png": "[encoded data removed]",
      "text/plain": [
       "<Figure size 800x600 with 1 Axes>"
      ]
     },
     "metadata": {},
     "output_type": "display_data"
    }
   ],
   "source": [
    "plt.figure(figsize=(8, 6))\n",
    "plt.pie(oda_sayisi_sayilari, labels=oda_sayisi_sayilari.index, autopct='%1.1f%%', startangle=140)\n",
    "plt.axis('equal')  # Daireyi tam daire olarak çizdirin\n",
    "plt.title('Oda Sayılarına Göre İlan Dağılımı')\n",
    "plt.show()"
   ]
  },
  {
   "cell_type": "markdown",
   "id": "45082555",
   "metadata": {},
   "source": [
    "İlanlarda 2 odalı, 3 odalı ve 4 odalı konutların sayısı çoğunluk oluşturmakta."
   ]
  },
  {
   "cell_type": "code",
   "execution_count": 1408,
   "id": "f75f560d",
   "metadata": {},
   "outputs": [],
   "source": [
    "bir_odali_evler = df[(df['Oda_Sayısı'] == 1) | (df['Oda_Sayısı'] == 0)]"
   ]
  },
  {
   "cell_type": "code",
   "execution_count": 1409,
   "id": "633f8ce2",
   "metadata": {},
   "outputs": [],
   "source": [
    "en_cok_1odali_ilceler = bir_odali_evler['İlçe'].value_counts().head(5)"
   ]
  },
  {
   "cell_type": "code",
   "execution_count": 1410,
   "id": "f5282889",
   "metadata": {},
   "outputs": [
    {
     "data": {
      "text/plain": [
       " Maltepe        54\n",
       " Bağcılar       43\n",
       " Sarıyer        37\n",
       " Başakşehir     31\n",
       " Bakırköy       26\n",
       "Name: İlçe, dtype: int64"
      ]
     },
     "execution_count": 1410,
     "metadata": {},
     "output_type": "execute_result"
    }
   ],
   "source": [
    "en_cok_1odali_ilceler"
   ]
  },
  {
   "cell_type": "code",
   "execution_count": 1411,
   "id": "48e5153d",
   "metadata": {},
   "outputs": [],
   "source": [
    "iki_odali_evler = df[(df['Oda_Sayısı'] == 2) | (df['Oda_Sayısı'] == 0)]\n",
    "en_cok_2odali_ilceler = iki_odali_evler['İlçe'].value_counts().head(5)"
   ]
  },
  {
   "cell_type": "code",
   "execution_count": 1412,
   "id": "d654d96e",
   "metadata": {},
   "outputs": [
    {
     "data": {
      "text/plain": [
       " Maltepe        146\n",
       " Esenyurt       136\n",
       " Başakşehir     134\n",
       " Bağcılar       125\n",
       " Pendik         119\n",
       "Name: İlçe, dtype: int64"
      ]
     },
     "execution_count": 1412,
     "metadata": {},
     "output_type": "execute_result"
    }
   ],
   "source": [
    "en_cok_2odali_ilceler"
   ]
  },
  {
   "cell_type": "code",
   "execution_count": 1413,
   "id": "02a7ecef",
   "metadata": {},
   "outputs": [],
   "source": [
    "uc_odali_evler = df[(df['Oda_Sayısı'] == 3) | (df['Oda_Sayısı'] == 0)]\n",
    "en_cok_3odali_ilceler = uc_odali_evler['İlçe'].value_counts().head(5)"
   ]
  },
  {
   "cell_type": "code",
   "execution_count": 1414,
   "id": "1f230bf9",
   "metadata": {},
   "outputs": [
    {
     "data": {
      "text/plain": [
       " Kadıköy        201\n",
       " Başakşehir      90\n",
       " Maltepe         86\n",
       " Bakırköy        85\n",
       " Bağcılar        82\n",
       "Name: İlçe, dtype: int64"
      ]
     },
     "execution_count": 1414,
     "metadata": {},
     "output_type": "execute_result"
    }
   ],
   "source": [
    "en_cok_3odali_ilceler"
   ]
  },
  {
   "cell_type": "code",
   "execution_count": 1415,
   "id": "6bca5683",
   "metadata": {},
   "outputs": [],
   "source": [
    "dort_odali_evler = df[(df['Oda_Sayısı'] == 4) | (df['Oda_Sayısı'] == 0)]\n",
    "en_cok_4odali_ilceler = dort_odali_evler['İlçe'].value_counts().head(5)"
   ]
  },
  {
   "cell_type": "code",
   "execution_count": 1416,
   "id": "48e88fbf",
   "metadata": {},
   "outputs": [
    {
     "data": {
      "text/plain": [
       " Kadıköy        68\n",
       " Bakırköy       56\n",
       " Başakşehir     53\n",
       " Maltepe        39\n",
       " Sarıyer        32\n",
       "Name: İlçe, dtype: int64"
      ]
     },
     "execution_count": 1416,
     "metadata": {},
     "output_type": "execute_result"
    }
   ],
   "source": [
    "en_cok_4odali_ilceler"
   ]
  },
  {
   "cell_type": "code",
   "execution_count": 1417,
   "id": "571422aa",
   "metadata": {},
   "outputs": [],
   "source": [
    "ortalama_fiyatlar1 = bir_odali_evler.groupby('İlçe')['Fiyatı'].mean()"
   ]
  },
  {
   "cell_type": "code",
   "execution_count": 1418,
   "id": "0ed29645",
   "metadata": {},
   "outputs": [
    {
     "data": {
      "text/plain": [
       "İlçe\n",
       " Avcılar          2.877588e+06\n",
       " Bahçelievler     4.966000e+05\n",
       " Bakırköy         2.194808e+06\n",
       " Bağcılar         1.363837e+06\n",
       " Başakşehir       1.669419e+06\n",
       " Beylikdüzü       7.234000e+05\n",
       " Beşiktaş         1.123679e+07\n",
       " Esenyurt         6.650476e+05\n",
       " Kadıköy          1.187750e+07\n",
       " Maltepe          1.162686e+06\n",
       " Pendik           7.792941e+05\n",
       " Sarıyer          4.960270e+06\n",
       " Şişli            3.650000e+06\n",
       "Name: Fiyatı, dtype: float64"
      ]
     },
     "execution_count": 1418,
     "metadata": {},
     "output_type": "execute_result"
    }
   ],
   "source": [
    "ortalama_fiyatlar1"
   ]
  },
  {
   "cell_type": "code",
   "execution_count": 1419,
   "id": "947f816d",
   "metadata": {},
   "outputs": [
    {
     "data": {
      "text/plain": [
       "İlçe\n",
       " Avcılar          1.007447e+06\n",
       " Bahçelievler     9.695543e+05\n",
       " Bakırköy         2.555357e+06\n",
       " Bağcılar         1.365948e+06\n",
       " Başakşehir       1.769552e+06\n",
       " Beylikdüzü       8.448406e+05\n",
       " Beşiktaş         5.396466e+06\n",
       " Esenyurt         6.467382e+05\n",
       " Kadıköy          3.060889e+06\n",
       " Maltepe          1.446486e+06\n",
       " Pendik           9.003949e+05\n",
       " Sarıyer          1.319787e+07\n",
       "Name: Fiyatı, dtype: float64"
      ]
     },
     "execution_count": 1419,
     "metadata": {},
     "output_type": "execute_result"
    }
   ],
   "source": [
    "ortalama_fiyatlar2 = iki_odali_evler.groupby('İlçe')['Fiyatı'].mean()\n",
    "ortalama_fiyatlar2"
   ]
  },
  {
   "cell_type": "code",
   "execution_count": 1420,
   "id": "540681a0",
   "metadata": {},
   "outputs": [
    {
     "data": {
      "text/plain": [
       "İlçe\n",
       " Avcılar          1.407923e+06\n",
       " Bahçelievler     1.597583e+06\n",
       " Bakırköy         4.643471e+06\n",
       " Bağcılar         7.934462e+06\n",
       " Başakşehir       2.292219e+06\n",
       " Beylikdüzü       1.742128e+06\n",
       " Beşiktaş         1.108246e+07\n",
       " Esenyurt         8.919686e+05\n",
       " Kadıköy          5.133582e+06\n",
       " Maltepe          2.304270e+07\n",
       " Pendik           1.243104e+06\n",
       " Sarıyer          2.387245e+07\n",
       "Name: Fiyatı, dtype: float64"
      ]
     },
     "execution_count": 1420,
     "metadata": {},
     "output_type": "execute_result"
    }
   ],
   "source": [
    "ortalama_fiyatlar3 = uc_odali_evler.groupby('İlçe')['Fiyatı'].mean()\n",
    "ortalama_fiyatlar3"
   ]
  },
  {
   "cell_type": "code",
   "execution_count": 1421,
   "id": "e4506700",
   "metadata": {
    "scrolled": true
   },
   "outputs": [
    {
     "data": {
      "text/plain": [
       "İlçe\n",
       " Avcılar          1.666143e+06\n",
       " Bahçelievler     1.985000e+06\n",
       " Bakırköy         8.226339e+06\n",
       " Bağcılar         3.574333e+06\n",
       " Başakşehir       3.490019e+06\n",
       " Beylikdüzü       2.748778e+06\n",
       " Beşiktaş         2.241000e+07\n",
       " Esenyurt         1.366500e+06\n",
       " Kadıköy          7.376471e+06\n",
       " Maltepe          2.471538e+06\n",
       " Pendik           2.115400e+06\n",
       " Sarıyer          8.892972e+06\n",
       "Name: Fiyatı, dtype: float64"
      ]
     },
     "execution_count": 1421,
     "metadata": {},
     "output_type": "execute_result"
    }
   ],
   "source": [
    "ortalama_fiyatlar4 = dort_odali_evler.groupby('İlçe')['Fiyatı'].mean()\n",
    "ortalama_fiyatlar4"
   ]
  },
  {
   "cell_type": "code",
   "execution_count": 1422,
   "id": "7dc444ee",
   "metadata": {},
   "outputs": [],
   "source": [
    "bins = [0, 50, 100, 150, 200, float('inf')]\n",
    "labels = ['0-50', '51-100', '101-150', '151-200', '200+']\n",
    "df['Metrekare_Kategori'] = pd.cut(df['Brüt_Metrekare'], bins=bins, labels=labels)"
   ]
  },
  {
   "cell_type": "code",
   "execution_count": 1423,
   "id": "ae7f17e0",
   "metadata": {},
   "outputs": [],
   "source": [
    "fiyat_ortalama = df.groupby('Metrekare_Kategori')['Fiyatı'].mean()"
   ]
  },
  {
   "cell_type": "code",
   "execution_count": 1424,
   "id": "174811ab",
   "metadata": {},
   "outputs": [
    {
     "data": {
      "text/plain": [
       "Metrekare_Kategori\n",
       "0-50       1.523524e+06\n",
       "51-100     1.371428e+06\n",
       "101-150    4.662955e+06\n",
       "151-200    5.621135e+06\n",
       "200+       1.288845e+07\n",
       "Name: Fiyatı, dtype: float64"
      ]
     },
     "execution_count": 1424,
     "metadata": {},
     "output_type": "execute_result"
    }
   ],
   "source": [
    "fiyat_ortalama"
   ]
  },
  {
   "cell_type": "code",
   "execution_count": 1425,
   "id": "c3fc0d95",
   "metadata": {
    "scrolled": false
   },
   "outputs": [
    {
     "data": {
      "image/png": "[encoded data removed]",
      "text/plain": [
       "<Figure size 1000x600 with 1 Axes>"
      ]
     },
     "metadata": {},
     "output_type": "display_data"
    }
   ],
   "source": [
    "plt.figure(figsize=(10, 6))\n",
    "fiyat_ortalama.plot(kind='bar', color='skyblue')\n",
    "plt.xlabel('Metrekare Kategorisi')\n",
    "plt.ylabel('Ortalama Fiyat')\n",
    "plt.title('Metrekare Kategorisi ve Ortalama Fiyat İlişkisi')\n",
    "plt.xticks(rotation=45)\n",
    "plt.show()"
   ]
  },
  {
   "cell_type": "code",
   "execution_count": 1426,
   "id": "e0b36936",
   "metadata": {
    "scrolled": true
   },
   "outputs": [
    {
     "data": {
      "text/html": [
       "<div>\n",
       "<style scoped>\n",
       "    .dataframe tbody tr th:only-of-type {\n",
       "        vertical-align: middle;\n",
       "    }\n",
       "\n",
       "    .dataframe tbody tr th {\n",
       "        vertical-align: top;\n",
       "    }\n",
       "\n",
       "    .dataframe thead th {\n",
       "        text-align: right;\n",
       "    }\n",
       "</style>\n",
       "<table border=\"1\" class=\"dataframe\">\n",
       "  <thead>\n",
       "    <tr style=\"text-align: right;\">\n",
       "      <th></th>\n",
       "      <th>İlan_Numarası</th>\n",
       "      <th>Brüt_Metrekare</th>\n",
       "      <th>Binanın_Yaşı</th>\n",
       "      <th>Binanın_Kat_Sayısı</th>\n",
       "      <th>Kullanım_Durumu</th>\n",
       "      <th>Yatırıma_Uygunluk</th>\n",
       "      <th>Eşya_Durumu</th>\n",
       "      <th>Banyo_Sayısı</th>\n",
       "      <th>Net_Metrekare</th>\n",
       "      <th>Oda_Sayısı</th>\n",
       "      <th>...</th>\n",
       "      <th>Krediye_Uygunluk</th>\n",
       "      <th>Site_İçerisinde</th>\n",
       "      <th>Fiyatı</th>\n",
       "      <th>İl</th>\n",
       "      <th>İlçe</th>\n",
       "      <th>Mahalle</th>\n",
       "      <th>yaka</th>\n",
       "      <th>Yaşam_endeksi</th>\n",
       "      <th>Nüfus</th>\n",
       "      <th>Metrekare_Kategori</th>\n",
       "    </tr>\n",
       "  </thead>\n",
       "  <tbody>\n",
       "    <tr>\n",
       "      <th>0</th>\n",
       "      <td>False</td>\n",
       "      <td>False</td>\n",
       "      <td>False</td>\n",
       "      <td>False</td>\n",
       "      <td>False</td>\n",
       "      <td>False</td>\n",
       "      <td>False</td>\n",
       "      <td>False</td>\n",
       "      <td>False</td>\n",
       "      <td>False</td>\n",
       "      <td>...</td>\n",
       "      <td>False</td>\n",
       "      <td>False</td>\n",
       "      <td>False</td>\n",
       "      <td>False</td>\n",
       "      <td>False</td>\n",
       "      <td>False</td>\n",
       "      <td>False</td>\n",
       "      <td>False</td>\n",
       "      <td>False</td>\n",
       "      <td>False</td>\n",
       "    </tr>\n",
       "    <tr>\n",
       "      <th>1</th>\n",
       "      <td>False</td>\n",
       "      <td>False</td>\n",
       "      <td>False</td>\n",
       "      <td>False</td>\n",
       "      <td>False</td>\n",
       "      <td>False</td>\n",
       "      <td>False</td>\n",
       "      <td>False</td>\n",
       "      <td>False</td>\n",
       "      <td>False</td>\n",
       "      <td>...</td>\n",
       "      <td>False</td>\n",
       "      <td>False</td>\n",
       "      <td>False</td>\n",
       "      <td>False</td>\n",
       "      <td>False</td>\n",
       "      <td>False</td>\n",
       "      <td>False</td>\n",
       "      <td>False</td>\n",
       "      <td>False</td>\n",
       "      <td>False</td>\n",
       "    </tr>\n",
       "    <tr>\n",
       "      <th>2</th>\n",
       "      <td>False</td>\n",
       "      <td>False</td>\n",
       "      <td>False</td>\n",
       "      <td>False</td>\n",
       "      <td>False</td>\n",
       "      <td>False</td>\n",
       "      <td>False</td>\n",
       "      <td>False</td>\n",
       "      <td>False</td>\n",
       "      <td>False</td>\n",
       "      <td>...</td>\n",
       "      <td>False</td>\n",
       "      <td>False</td>\n",
       "      <td>False</td>\n",
       "      <td>False</td>\n",
       "      <td>False</td>\n",
       "      <td>False</td>\n",
       "      <td>False</td>\n",
       "      <td>False</td>\n",
       "      <td>False</td>\n",
       "      <td>False</td>\n",
       "    </tr>\n",
       "    <tr>\n",
       "      <th>3</th>\n",
       "      <td>False</td>\n",
       "      <td>False</td>\n",
       "      <td>False</td>\n",
       "      <td>False</td>\n",
       "      <td>False</td>\n",
       "      <td>False</td>\n",
       "      <td>False</td>\n",
       "      <td>False</td>\n",
       "      <td>False</td>\n",
       "      <td>False</td>\n",
       "      <td>...</td>\n",
       "      <td>False</td>\n",
       "      <td>False</td>\n",
       "      <td>False</td>\n",
       "      <td>False</td>\n",
       "      <td>False</td>\n",
       "      <td>False</td>\n",
       "      <td>False</td>\n",
       "      <td>False</td>\n",
       "      <td>False</td>\n",
       "      <td>False</td>\n",
       "    </tr>\n",
       "    <tr>\n",
       "      <th>4</th>\n",
       "      <td>False</td>\n",
       "      <td>False</td>\n",
       "      <td>False</td>\n",
       "      <td>False</td>\n",
       "      <td>False</td>\n",
       "      <td>False</td>\n",
       "      <td>False</td>\n",
       "      <td>False</td>\n",
       "      <td>False</td>\n",
       "      <td>False</td>\n",
       "      <td>...</td>\n",
       "      <td>False</td>\n",
       "      <td>False</td>\n",
       "      <td>False</td>\n",
       "      <td>False</td>\n",
       "      <td>False</td>\n",
       "      <td>False</td>\n",
       "      <td>False</td>\n",
       "      <td>False</td>\n",
       "      <td>False</td>\n",
       "      <td>False</td>\n",
       "    </tr>\n",
       "    <tr>\n",
       "      <th>...</th>\n",
       "      <td>...</td>\n",
       "      <td>...</td>\n",
       "      <td>...</td>\n",
       "      <td>...</td>\n",
       "      <td>...</td>\n",
       "      <td>...</td>\n",
       "      <td>...</td>\n",
       "      <td>...</td>\n",
       "      <td>...</td>\n",
       "      <td>...</td>\n",
       "      <td>...</td>\n",
       "      <td>...</td>\n",
       "      <td>...</td>\n",
       "      <td>...</td>\n",
       "      <td>...</td>\n",
       "      <td>...</td>\n",
       "      <td>...</td>\n",
       "      <td>...</td>\n",
       "      <td>...</td>\n",
       "      <td>...</td>\n",
       "      <td>...</td>\n",
       "    </tr>\n",
       "    <tr>\n",
       "      <th>2978</th>\n",
       "      <td>False</td>\n",
       "      <td>False</td>\n",
       "      <td>False</td>\n",
       "      <td>False</td>\n",
       "      <td>False</td>\n",
       "      <td>False</td>\n",
       "      <td>False</td>\n",
       "      <td>False</td>\n",
       "      <td>False</td>\n",
       "      <td>False</td>\n",
       "      <td>...</td>\n",
       "      <td>False</td>\n",
       "      <td>False</td>\n",
       "      <td>False</td>\n",
       "      <td>False</td>\n",
       "      <td>False</td>\n",
       "      <td>False</td>\n",
       "      <td>False</td>\n",
       "      <td>False</td>\n",
       "      <td>False</td>\n",
       "      <td>False</td>\n",
       "    </tr>\n",
       "    <tr>\n",
       "      <th>2979</th>\n",
       "      <td>False</td>\n",
       "      <td>False</td>\n",
       "      <td>False</td>\n",
       "      <td>False</td>\n",
       "      <td>False</td>\n",
       "      <td>False</td>\n",
       "      <td>False</td>\n",
       "      <td>False</td>\n",
       "      <td>False</td>\n",
       "      <td>False</td>\n",
       "      <td>...</td>\n",
       "      <td>False</td>\n",
       "      <td>False</td>\n",
       "      <td>False</td>\n",
       "      <td>False</td>\n",
       "      <td>False</td>\n",
       "      <td>False</td>\n",
       "      <td>False</td>\n",
       "      <td>False</td>\n",
       "      <td>False</td>\n",
       "      <td>False</td>\n",
       "    </tr>\n",
       "    <tr>\n",
       "      <th>2980</th>\n",
       "      <td>False</td>\n",
       "      <td>False</td>\n",
       "      <td>False</td>\n",
       "      <td>False</td>\n",
       "      <td>False</td>\n",
       "      <td>False</td>\n",
       "      <td>False</td>\n",
       "      <td>False</td>\n",
       "      <td>False</td>\n",
       "      <td>False</td>\n",
       "      <td>...</td>\n",
       "      <td>False</td>\n",
       "      <td>False</td>\n",
       "      <td>False</td>\n",
       "      <td>False</td>\n",
       "      <td>False</td>\n",
       "      <td>False</td>\n",
       "      <td>False</td>\n",
       "      <td>False</td>\n",
       "      <td>False</td>\n",
       "      <td>False</td>\n",
       "    </tr>\n",
       "    <tr>\n",
       "      <th>2981</th>\n",
       "      <td>False</td>\n",
       "      <td>False</td>\n",
       "      <td>False</td>\n",
       "      <td>False</td>\n",
       "      <td>False</td>\n",
       "      <td>False</td>\n",
       "      <td>False</td>\n",
       "      <td>False</td>\n",
       "      <td>False</td>\n",
       "      <td>False</td>\n",
       "      <td>...</td>\n",
       "      <td>False</td>\n",
       "      <td>False</td>\n",
       "      <td>False</td>\n",
       "      <td>False</td>\n",
       "      <td>False</td>\n",
       "      <td>False</td>\n",
       "      <td>False</td>\n",
       "      <td>False</td>\n",
       "      <td>False</td>\n",
       "      <td>False</td>\n",
       "    </tr>\n",
       "    <tr>\n",
       "      <th>2982</th>\n",
       "      <td>False</td>\n",
       "      <td>False</td>\n",
       "      <td>False</td>\n",
       "      <td>False</td>\n",
       "      <td>False</td>\n",
       "      <td>False</td>\n",
       "      <td>False</td>\n",
       "      <td>False</td>\n",
       "      <td>False</td>\n",
       "      <td>False</td>\n",
       "      <td>...</td>\n",
       "      <td>False</td>\n",
       "      <td>False</td>\n",
       "      <td>False</td>\n",
       "      <td>False</td>\n",
       "      <td>False</td>\n",
       "      <td>False</td>\n",
       "      <td>False</td>\n",
       "      <td>False</td>\n",
       "      <td>False</td>\n",
       "      <td>False</td>\n",
       "    </tr>\n",
       "  </tbody>\n",
       "</table>\n",
       "<p>2983 rows × 22 columns</p>\n",
       "</div>"
      ],
      "text/plain": [
       "      İlan_Numarası  Brüt_Metrekare  Binanın_Yaşı  Binanın_Kat_Sayısı  \\\n",
       "0             False           False         False               False   \n",
       "1             False           False         False               False   \n",
       "2             False           False         False               False   \n",
       "3             False           False         False               False   \n",
       "4             False           False         False               False   \n",
       "...             ...             ...           ...                 ...   \n",
       "2978          False           False         False               False   \n",
       "2979          False           False         False               False   \n",
       "2980          False           False         False               False   \n",
       "2981          False           False         False               False   \n",
       "2982          False           False         False               False   \n",
       "\n",
       "      Kullanım_Durumu  Yatırıma_Uygunluk  Eşya_Durumu  Banyo_Sayısı  \\\n",
       "0               False              False        False         False   \n",
       "1               False              False        False         False   \n",
       "2               False              False        False         False   \n",
       "3               False              False        False         False   \n",
       "4               False              False        False         False   \n",
       "...               ...                ...          ...           ...   \n",
       "2978            False              False        False         False   \n",
       "2979            False              False        False         False   \n",
       "2980            False              False        False         False   \n",
       "2981            False              False        False         False   \n",
       "2982            False              False        False         False   \n",
       "\n",
       "      Net_Metrekare  Oda_Sayısı  ...  Krediye_Uygunluk  Site_İçerisinde  \\\n",
       "0             False       False  ...             False            False   \n",
       "1             False       False  ...             False            False   \n",
       "2             False       False  ...             False            False   \n",
       "3             False       False  ...             False            False   \n",
       "4             False       False  ...             False            False   \n",
       "...             ...         ...  ...               ...              ...   \n",
       "2978          False       False  ...             False            False   \n",
       "2979          False       False  ...             False            False   \n",
       "2980          False       False  ...             False            False   \n",
       "2981          False       False  ...             False            False   \n",
       "2982          False       False  ...             False            False   \n",
       "\n",
       "      Fiyatı     İl   İlçe  Mahalle   yaka  Yaşam_endeksi  Nüfus  \\\n",
       "0      False  False  False    False  False          False  False   \n",
       "1      False  False  False    False  False          False  False   \n",
       "2      False  False  False    False  False          False  False   \n",
       "3      False  False  False    False  False          False  False   \n",
       "4      False  False  False    False  False          False  False   \n",
       "...      ...    ...    ...      ...    ...            ...    ...   \n",
       "2978   False  False  False    False  False          False  False   \n",
       "2979   False  False  False    False  False          False  False   \n",
       "2980   False  False  False    False  False          False  False   \n",
       "2981   False  False  False    False  False          False  False   \n",
       "2982   False  False  False    False  False          False  False   \n",
       "\n",
       "      Metrekare_Kategori  \n",
       "0                  False  \n",
       "1                  False  \n",
       "2                  False  \n",
       "3                  False  \n",
       "4                  False  \n",
       "...                  ...  \n",
       "2978               False  \n",
       "2979               False  \n",
       "2980               False  \n",
       "2981               False  \n",
       "2982               False  \n",
       "\n",
       "[2983 rows x 22 columns]"
      ]
     },
     "execution_count": 1426,
     "metadata": {},
     "output_type": "execute_result"
    }
   ],
   "source": [
    "df.isna()"
   ]
  },
  {
   "cell_type": "code",
   "execution_count": 1427,
   "id": "86d5ee80",
   "metadata": {},
   "outputs": [
    {
     "data": {
      "text/plain": [
       "Index(['İlan_Numarası', 'Brüt_Metrekare', 'Binanın_Yaşı', 'Binanın_Kat_Sayısı',\n",
       "       'Kullanım_Durumu', 'Yatırıma_Uygunluk', 'Eşya_Durumu', 'Banyo_Sayısı',\n",
       "       'Net_Metrekare', 'Oda_Sayısı', 'Bulunduğu_Kat', 'Isıtma_Tipi',\n",
       "       'Krediye_Uygunluk', 'Site_İçerisinde', 'Fiyatı', 'İl', 'İlçe',\n",
       "       'Mahalle', 'yaka', 'Yaşam_endeksi', 'Nüfus', 'Metrekare_Kategori'],\n",
       "      dtype='object')"
      ]
     },
     "execution_count": 1427,
     "metadata": {},
     "output_type": "execute_result"
    }
   ],
   "source": [
    "df.columns"
   ]
  },
  {
   "cell_type": "code",
   "execution_count": 1428,
   "id": "d5f3eb13",
   "metadata": {},
   "outputs": [],
   "source": [
    "df.drop('İlan_Numarası', axis = 1, inplace = True )\n",
    "df.drop('Binanın_Yaşı', axis = 1, inplace = True )\n",
    "df.drop('Binanın_Kat_Sayısı', axis = 1, inplace = True )\n",
    "df.drop('Bulunduğu_Kat', axis = 1, inplace = True )\n",
    "df.drop('Isıtma_Tipi', axis = 1, inplace = True )\n",
    "df.drop('Krediye_Uygunluk', axis = 1, inplace = True )\n",
    "df.drop('Site_İçerisinde', axis = 1, inplace = True )\n",
    "df.drop('İl', axis = 1, inplace = True )\n",
    "df.drop('İlçe', axis = 1, inplace = True )\n",
    "df.drop('Mahalle', axis = 1, inplace = True )\n",
    "df.drop('yaka', axis = 1, inplace = True )\n",
    "df.drop('Nüfus', axis = 1, inplace = True )\n"
   ]
  },
  {
   "cell_type": "code",
   "execution_count": 1429,
   "id": "77016c23",
   "metadata": {},
   "outputs": [],
   "source": [
    "df.drop('Kullanım_Durumu', axis = 1, inplace = True )\n",
    "df.drop('Yatırıma_Uygunluk', axis = 1, inplace = True )\n",
    "df.drop('Eşya_Durumu', axis = 1, inplace = True )\n",
    "df.drop('Metrekare_Kategori', axis = 1, inplace = True )\n"
   ]
  },
  {
   "cell_type": "code",
   "execution_count": 1430,
   "id": "fe022c4f",
   "metadata": {},
   "outputs": [
    {
     "data": {
      "text/html": [
       "<div>\n",
       "<style scoped>\n",
       "    .dataframe tbody tr th:only-of-type {\n",
       "        vertical-align: middle;\n",
       "    }\n",
       "\n",
       "    .dataframe tbody tr th {\n",
       "        vertical-align: top;\n",
       "    }\n",
       "\n",
       "    .dataframe thead th {\n",
       "        text-align: right;\n",
       "    }\n",
       "</style>\n",
       "<table border=\"1\" class=\"dataframe\">\n",
       "  <thead>\n",
       "    <tr style=\"text-align: right;\">\n",
       "      <th></th>\n",
       "      <th>Brüt_Metrekare</th>\n",
       "      <th>Banyo_Sayısı</th>\n",
       "      <th>Net_Metrekare</th>\n",
       "      <th>Oda_Sayısı</th>\n",
       "      <th>Fiyatı</th>\n",
       "      <th>Yaşam_endeksi</th>\n",
       "    </tr>\n",
       "  </thead>\n",
       "  <tbody>\n",
       "    <tr>\n",
       "      <th>0</th>\n",
       "      <td>190</td>\n",
       "      <td>2</td>\n",
       "      <td>168</td>\n",
       "      <td>4</td>\n",
       "      <td>18000000</td>\n",
       "      <td>0.911</td>\n",
       "    </tr>\n",
       "    <tr>\n",
       "      <th>1</th>\n",
       "      <td>300</td>\n",
       "      <td>3</td>\n",
       "      <td>270</td>\n",
       "      <td>5</td>\n",
       "      <td>8500000</td>\n",
       "      <td>0.911</td>\n",
       "    </tr>\n",
       "    <tr>\n",
       "      <th>2</th>\n",
       "      <td>350</td>\n",
       "      <td>2</td>\n",
       "      <td>320</td>\n",
       "      <td>5</td>\n",
       "      <td>16500000</td>\n",
       "      <td>0.911</td>\n",
       "    </tr>\n",
       "    <tr>\n",
       "      <th>3</th>\n",
       "      <td>450</td>\n",
       "      <td>3</td>\n",
       "      <td>400</td>\n",
       "      <td>6</td>\n",
       "      <td>22000000</td>\n",
       "      <td>0.911</td>\n",
       "    </tr>\n",
       "    <tr>\n",
       "      <th>4</th>\n",
       "      <td>160</td>\n",
       "      <td>1</td>\n",
       "      <td>140</td>\n",
       "      <td>3</td>\n",
       "      <td>4250000</td>\n",
       "      <td>0.911</td>\n",
       "    </tr>\n",
       "    <tr>\n",
       "      <th>...</th>\n",
       "      <td>...</td>\n",
       "      <td>...</td>\n",
       "      <td>...</td>\n",
       "      <td>...</td>\n",
       "      <td>...</td>\n",
       "      <td>...</td>\n",
       "    </tr>\n",
       "    <tr>\n",
       "      <th>2978</th>\n",
       "      <td>550</td>\n",
       "      <td>5</td>\n",
       "      <td>400</td>\n",
       "      <td>6</td>\n",
       "      <td>6100000</td>\n",
       "      <td>0.347</td>\n",
       "    </tr>\n",
       "    <tr>\n",
       "      <th>2979</th>\n",
       "      <td>160</td>\n",
       "      <td>1</td>\n",
       "      <td>145</td>\n",
       "      <td>3</td>\n",
       "      <td>2050000</td>\n",
       "      <td>0.347</td>\n",
       "    </tr>\n",
       "    <tr>\n",
       "      <th>2980</th>\n",
       "      <td>220</td>\n",
       "      <td>3</td>\n",
       "      <td>170</td>\n",
       "      <td>4</td>\n",
       "      <td>7850000</td>\n",
       "      <td>0.347</td>\n",
       "    </tr>\n",
       "    <tr>\n",
       "      <th>2981</th>\n",
       "      <td>950</td>\n",
       "      <td>4</td>\n",
       "      <td>800</td>\n",
       "      <td>8</td>\n",
       "      <td>4900000</td>\n",
       "      <td>0.347</td>\n",
       "    </tr>\n",
       "    <tr>\n",
       "      <th>2982</th>\n",
       "      <td>250</td>\n",
       "      <td>3</td>\n",
       "      <td>235</td>\n",
       "      <td>4</td>\n",
       "      <td>3700000</td>\n",
       "      <td>0.347</td>\n",
       "    </tr>\n",
       "  </tbody>\n",
       "</table>\n",
       "<p>2983 rows × 6 columns</p>\n",
       "</div>"
      ],
      "text/plain": [
       "      Brüt_Metrekare  Banyo_Sayısı  Net_Metrekare  Oda_Sayısı    Fiyatı  \\\n",
       "0                190             2            168           4  18000000   \n",
       "1                300             3            270           5   8500000   \n",
       "2                350             2            320           5  16500000   \n",
       "3                450             3            400           6  22000000   \n",
       "4                160             1            140           3   4250000   \n",
       "...              ...           ...            ...         ...       ...   \n",
       "2978             550             5            400           6   6100000   \n",
       "2979             160             1            145           3   2050000   \n",
       "2980             220             3            170           4   7850000   \n",
       "2981             950             4            800           8   4900000   \n",
       "2982             250             3            235           4   3700000   \n",
       "\n",
       "      Yaşam_endeksi  \n",
       "0             0.911  \n",
       "1             0.911  \n",
       "2             0.911  \n",
       "3             0.911  \n",
       "4             0.911  \n",
       "...             ...  \n",
       "2978          0.347  \n",
       "2979          0.347  \n",
       "2980          0.347  \n",
       "2981          0.347  \n",
       "2982          0.347  \n",
       "\n",
       "[2983 rows x 6 columns]"
      ]
     },
     "execution_count": 1430,
     "metadata": {},
     "output_type": "execute_result"
    }
   ],
   "source": [
    "df"
   ]
  },
  {
   "cell_type": "code",
   "execution_count": 1431,
   "id": "092e6a6e",
   "metadata": {},
   "outputs": [],
   "source": [
    "df_cleaned = df.dropna()"
   ]
  },
  {
   "cell_type": "code",
   "execution_count": 1432,
   "id": "e3a40d96",
   "metadata": {},
   "outputs": [],
   "source": [
    "from sklearn.linear_model import LinearRegression\n",
    "from sklearn.metrics import mean_squared_error\n",
    "from numpy import sqrt\n",
    "from sklearn.model_selection import train_test_split"
   ]
  },
  {
   "cell_type": "code",
   "execution_count": 1433,
   "id": "0f0cdd82",
   "metadata": {},
   "outputs": [],
   "source": [
    "train, test = train_test_split(df_cleaned, test_size=0.3) "
   ]
  },
  {
   "cell_type": "code",
   "execution_count": 1434,
   "id": "6a7a9ec2",
   "metadata": {},
   "outputs": [],
   "source": [
    "model = LinearRegression() "
   ]
  },
  {
   "cell_type": "code",
   "execution_count": 1435,
   "id": "d463fd53",
   "metadata": {},
   "outputs": [],
   "source": [
    "X_train = train.drop('Fiyatı', axis=1)\n",
    "y_train = train.loc[:,'Fiyatı'] "
   ]
  },
  {
   "cell_type": "code",
   "execution_count": 1436,
   "id": "ee606283",
   "metadata": {},
   "outputs": [],
   "source": [
    "X_test = test.drop('Fiyatı', axis=1)\n",
    "y_test = test.loc[:,\"Fiyatı\"]"
   ]
  },
  {
   "cell_type": "code",
   "execution_count": 1437,
   "id": "5b88f1fa",
   "metadata": {},
   "outputs": [
    {
     "name": "stdout",
     "output_type": "stream",
     "text": [
      "      Brüt_Metrekare  Banyo_Sayısı  Net_Metrekare  Oda_Sayısı    Fiyatı  \\\n",
      "94               125             1            110           3   1500000   \n",
      "642               85             1             78           2   1600000   \n",
      "440               90             1             80           2    290000   \n",
      "2077             120             1            110           2    655000   \n",
      "140              750             6            732           8  54500000   \n",
      "...              ...           ...            ...         ...       ...   \n",
      "585              145             2            140           4   1070000   \n",
      "2457             155             1            140           3   2450000   \n",
      "186              320             5            250           6  19500000   \n",
      "136               77             1             58           1   6000000   \n",
      "2585             155             1            110           2   1450000   \n",
      "\n",
      "      Yaşam_endeksi  \n",
      "94            0.911  \n",
      "642           0.613  \n",
      "440          -0.161  \n",
      "2077         -0.194  \n",
      "140           0.911  \n",
      "...             ...  \n",
      "585           0.053  \n",
      "2457          0.161  \n",
      "186           0.911  \n",
      "136           0.911  \n",
      "2585         -0.190  \n",
      "\n",
      "[2088 rows x 6 columns]\n",
      "      Brüt_Metrekare  Banyo_Sayısı  Net_Metrekare  Oda_Sayısı   Fiyatı  \\\n",
      "1716             148             1            120           3  1125000   \n",
      "950              160             2            140           3  2850000   \n",
      "2477              85             1             75           2   985000   \n",
      "1086             110             1            100           3   510000   \n",
      "716               75             1             65           2   985000   \n",
      "...              ...           ...            ...         ...      ...   \n",
      "1635             140             2            130           3  1890000   \n",
      "419              110             1            100           2   625000   \n",
      "2570             100             1             90           2   575000   \n",
      "1347             150             1            120           3  3300000   \n",
      "298              125             1            110           3  1050000   \n",
      "\n",
      "      Yaşam_endeksi  \n",
      "1716          0.025  \n",
      "950           0.613  \n",
      "2477          0.161  \n",
      "1086         -0.152  \n",
      "716           0.613  \n",
      "...             ...  \n",
      "1635          0.025  \n",
      "419          -0.161  \n",
      "2570         -0.190  \n",
      "1347          0.886  \n",
      "298          -0.161  \n",
      "\n",
      "[895 rows x 6 columns]\n"
     ]
    }
   ],
   "source": [
    "print(train)\n",
    "print(test)"
   ]
  },
  {
   "cell_type": "code",
   "execution_count": 1438,
   "id": "5b9412b6",
   "metadata": {},
   "outputs": [],
   "source": [
    "test.dropna(axis=0, inplace=True)\n",
    "train.dropna(axis=0, inplace=True)"
   ]
  },
  {
   "cell_type": "code",
   "execution_count": 1439,
   "id": "553d523c",
   "metadata": {},
   "outputs": [
    {
     "data": {
      "text/html": [
       "<style>#sk-container-id-13 {color: black;background-color: white;}#sk-container-id-13 pre{padding: 0;}#sk-container-id-13 div.sk-toggleable {background-color: white;}#sk-container-id-13 label.sk-toggleable__label {cursor: pointer;display: block;width: 100%;margin-bottom: 0;padding: 0.3em;box-sizing: border-box;text-align: center;}#sk-container-id-13 label.sk-toggleable__label-arrow:before {content: \"▸\";float: left;margin-right: 0.25em;color: #696969;}#sk-container-id-13 label.sk-toggleable__label-arrow:hover:before {color: black;}#sk-container-id-13 div.sk-estimator:hover label.sk-toggleable__label-arrow:before {color: black;}#sk-container-id-13 div.sk-toggleable__content {max-height: 0;max-width: 0;overflow: hidden;text-align: left;background-color: #f0f8ff;}#sk-container-id-13 div.sk-toggleable__content pre {margin: 0.2em;color: black;border-radius: 0.25em;background-color: #f0f8ff;}#sk-container-id-13 input.sk-toggleable__control:checked~div.sk-toggleable__content {max-height: 200px;max-width: 100%;overflow: auto;}#sk-container-id-13 input.sk-toggleable__control:checked~label.sk-toggleable__label-arrow:before {content: \"▾\";}#sk-container-id-13 div.sk-estimator input.sk-toggleable__control:checked~label.sk-toggleable__label {background-color: #d4ebff;}#sk-container-id-13 div.sk-label input.sk-toggleable__control:checked~label.sk-toggleable__label {background-color: #d4ebff;}#sk-container-id-13 input.sk-hidden--visually {border: 0;clip: rect(1px 1px 1px 1px);clip: rect(1px, 1px, 1px, 1px);height: 1px;margin: -1px;overflow: hidden;padding: 0;position: absolute;width: 1px;}#sk-container-id-13 div.sk-estimator {font-family: monospace;background-color: #f0f8ff;border: 1px dotted black;border-radius: 0.25em;box-sizing: border-box;margin-bottom: 0.5em;}#sk-container-id-13 div.sk-estimator:hover {background-color: #d4ebff;}#sk-container-id-13 div.sk-parallel-item::after {content: \"\";width: 100%;border-bottom: 1px solid gray;flex-grow: 1;}#sk-container-id-13 div.sk-label:hover label.sk-toggleable__label {background-color: #d4ebff;}#sk-container-id-13 div.sk-serial::before {content: \"\";position: absolute;border-left: 1px solid gray;box-sizing: border-box;top: 0;bottom: 0;left: 50%;z-index: 0;}#sk-container-id-13 div.sk-serial {display: flex;flex-direction: column;align-items: center;background-color: white;padding-right: 0.2em;padding-left: 0.2em;position: relative;}#sk-container-id-13 div.sk-item {position: relative;z-index: 1;}#sk-container-id-13 div.sk-parallel {display: flex;align-items: stretch;justify-content: center;background-color: white;position: relative;}#sk-container-id-13 div.sk-item::before, #sk-container-id-13 div.sk-parallel-item::before {content: \"\";position: absolute;border-left: 1px solid gray;box-sizing: border-box;top: 0;bottom: 0;left: 50%;z-index: -1;}#sk-container-id-13 div.sk-parallel-item {display: flex;flex-direction: column;z-index: 1;position: relative;background-color: white;}#sk-container-id-13 div.sk-parallel-item:first-child::after {align-self: flex-end;width: 50%;}#sk-container-id-13 div.sk-parallel-item:last-child::after {align-self: flex-start;width: 50%;}#sk-container-id-13 div.sk-parallel-item:only-child::after {width: 0;}#sk-container-id-13 div.sk-dashed-wrapped {border: 1px dashed gray;margin: 0 0.4em 0.5em 0.4em;box-sizing: border-box;padding-bottom: 0.4em;background-color: white;}#sk-container-id-13 div.sk-label label {font-family: monospace;font-weight: bold;display: inline-block;line-height: 1.2em;}#sk-container-id-13 div.sk-label-container {text-align: center;}#sk-container-id-13 div.sk-container {/* jupyter's `normalize.less` sets `[hidden] { display: none; }` but bootstrap.min.css set `[hidden] { display: none !important; }` so we also need the `!important` here to be able to override the default hidden behavior on the sphinx rendered scikit-learn.org. See: https://github.com/scikit-learn/scikit-learn/issues/21755 */display: inline-block !important;position: relative;}#sk-container-id-13 div.sk-text-repr-fallback {display: none;}</style><div id=\"sk-container-id-13\" class=\"sk-top-container\"><div class=\"sk-text-repr-fallback\"><pre>LinearRegression()</pre><b>In a Jupyter environment, please rerun this cell to show the HTML representation or trust the notebook. <br />On GitHub, the HTML representation is unable to render, please try loading this page with nbviewer.org.</b></div><div class=\"sk-container\" hidden><div class=\"sk-item\"><div class=\"sk-estimator sk-toggleable\"><input class=\"sk-toggleable__control sk-hidden--visually\" id=\"sk-estimator-id-13\" type=\"checkbox\" checked><label for=\"sk-estimator-id-13\" class=\"sk-toggleable__label sk-toggleable__label-arrow\">LinearRegression</label><div class=\"sk-toggleable__content\"><pre>LinearRegression()</pre></div></div></div></div></div>"
      ],
      "text/plain": [
       "LinearRegression()"
      ]
     },
     "execution_count": 1439,
     "metadata": {},
     "output_type": "execute_result"
    }
   ],
   "source": [
    "model.fit(X_train,y_train)"
   ]
  },
  {
   "cell_type": "code",
   "execution_count": 1440,
   "id": "4bb75d08",
   "metadata": {},
   "outputs": [],
   "source": [
    "predictions = model.predict(X_test)"
   ]
  },
  {
   "cell_type": "code",
   "execution_count": 1441,
   "id": "9480043f",
   "metadata": {},
   "outputs": [
    {
     "data": {
      "text/plain": [
       "(895,)"
      ]
     },
     "execution_count": 1441,
     "metadata": {},
     "output_type": "execute_result"
    }
   ],
   "source": [
    "predictions.shape"
   ]
  },
  {
   "cell_type": "code",
   "execution_count": 1442,
   "id": "5f846e7b",
   "metadata": {},
   "outputs": [
    {
     "data": {
      "text/plain": [
       "1716    1125000\n",
       "950     2850000\n",
       "2477     985000\n",
       "1086     510000\n",
       "716      985000\n",
       "         ...   \n",
       "1635    1890000\n",
       "419      625000\n",
       "2570     575000\n",
       "1347    3300000\n",
       "298     1050000\n",
       "Name: Fiyatı, Length: 895, dtype: int64"
      ]
     },
     "execution_count": 1442,
     "metadata": {},
     "output_type": "execute_result"
    }
   ],
   "source": [
    "y_test"
   ]
  },
  {
   "cell_type": "code",
   "execution_count": 1443,
   "id": "90f41b49",
   "metadata": {},
   "outputs": [
    {
     "data": {
      "text/plain": [
       "65345196.595744364"
      ]
     },
     "execution_count": 1443,
     "metadata": {},
     "output_type": "execute_result"
    }
   ],
   "source": [
    "rmse = sqrt(mean_squared_error(y_test, predictions))\n",
    "rmse"
   ]
  },
  {
   "cell_type": "code",
   "execution_count": 1444,
   "id": "02953267",
   "metadata": {},
   "outputs": [],
   "source": [
    "comparison = pd.DataFrame({\"Actual Values\": y_test,\"Predictions\": predictions})"
   ]
  },
  {
   "cell_type": "code",
   "execution_count": 1445,
   "id": "05f04865",
   "metadata": {},
   "outputs": [
    {
     "data": {
      "text/html": [
       "<div>\n",
       "<style scoped>\n",
       "    .dataframe tbody tr th:only-of-type {\n",
       "        vertical-align: middle;\n",
       "    }\n",
       "\n",
       "    .dataframe tbody tr th {\n",
       "        vertical-align: top;\n",
       "    }\n",
       "\n",
       "    .dataframe thead th {\n",
       "        text-align: right;\n",
       "    }\n",
       "</style>\n",
       "<table border=\"1\" class=\"dataframe\">\n",
       "  <thead>\n",
       "    <tr style=\"text-align: right;\">\n",
       "      <th></th>\n",
       "      <th>Actual Values</th>\n",
       "      <th>Predictions</th>\n",
       "    </tr>\n",
       "  </thead>\n",
       "  <tbody>\n",
       "    <tr>\n",
       "      <th>1716</th>\n",
       "      <td>1125000</td>\n",
       "      <td>5.681079e+05</td>\n",
       "    </tr>\n",
       "    <tr>\n",
       "      <th>950</th>\n",
       "      <td>2850000</td>\n",
       "      <td>7.539525e+06</td>\n",
       "    </tr>\n",
       "    <tr>\n",
       "      <th>2477</th>\n",
       "      <td>985000</td>\n",
       "      <td>7.500191e+05</td>\n",
       "    </tr>\n",
       "    <tr>\n",
       "      <th>1086</th>\n",
       "      <td>510000</td>\n",
       "      <td>-1.622712e+06</td>\n",
       "    </tr>\n",
       "    <tr>\n",
       "      <th>716</th>\n",
       "      <td>985000</td>\n",
       "      <td>3.485850e+06</td>\n",
       "    </tr>\n",
       "  </tbody>\n",
       "</table>\n",
       "</div>"
      ],
      "text/plain": [
       "      Actual Values   Predictions\n",
       "1716        1125000  5.681079e+05\n",
       "950         2850000  7.539525e+06\n",
       "2477         985000  7.500191e+05\n",
       "1086         510000 -1.622712e+06\n",
       "716          985000  3.485850e+06"
      ]
     },
     "execution_count": 1445,
     "metadata": {},
     "output_type": "execute_result"
    }
   ],
   "source": [
    "comparison.head()"
   ]
  },
  {
   "cell_type": "code",
   "execution_count": 1446,
   "id": "43a282cf",
   "metadata": {},
   "outputs": [
    {
     "data": {
      "text/html": [
       "<div>\n",
       "<style scoped>\n",
       "    .dataframe tbody tr th:only-of-type {\n",
       "        vertical-align: middle;\n",
       "    }\n",
       "\n",
       "    .dataframe tbody tr th {\n",
       "        vertical-align: top;\n",
       "    }\n",
       "\n",
       "    .dataframe thead th {\n",
       "        text-align: right;\n",
       "    }\n",
       "</style>\n",
       "<table border=\"1\" class=\"dataframe\">\n",
       "  <thead>\n",
       "    <tr style=\"text-align: right;\">\n",
       "      <th></th>\n",
       "      <th>Actual Values</th>\n",
       "      <th>Predictions</th>\n",
       "    </tr>\n",
       "  </thead>\n",
       "  <tbody>\n",
       "    <tr>\n",
       "      <th>1635</th>\n",
       "      <td>1890000</td>\n",
       "      <td>3.324274e+06</td>\n",
       "    </tr>\n",
       "    <tr>\n",
       "      <th>419</th>\n",
       "      <td>625000</td>\n",
       "      <td>-1.135869e+06</td>\n",
       "    </tr>\n",
       "    <tr>\n",
       "      <th>2570</th>\n",
       "      <td>575000</td>\n",
       "      <td>-1.348954e+06</td>\n",
       "    </tr>\n",
       "    <tr>\n",
       "      <th>1347</th>\n",
       "      <td>3300000</td>\n",
       "      <td>5.961740e+06</td>\n",
       "    </tr>\n",
       "    <tr>\n",
       "      <th>298</th>\n",
       "      <td>1050000</td>\n",
       "      <td>-1.355074e+06</td>\n",
       "    </tr>\n",
       "  </tbody>\n",
       "</table>\n",
       "</div>"
      ],
      "text/plain": [
       "      Actual Values   Predictions\n",
       "1635        1890000  3.324274e+06\n",
       "419          625000 -1.135869e+06\n",
       "2570         575000 -1.348954e+06\n",
       "1347        3300000  5.961740e+06\n",
       "298         1050000 -1.355074e+06"
      ]
     },
     "execution_count": 1446,
     "metadata": {},
     "output_type": "execute_result"
    }
   ],
   "source": [
    "comparison.tail()"
   ]
  },
  {
   "cell_type": "code",
   "execution_count": 1447,
   "id": "75c777db",
   "metadata": {},
   "outputs": [
    {
     "data": {
      "text/plain": [
       "Fiyatı            1.000000\n",
       "Banyo_Sayısı      0.405240\n",
       "Yaşam_endeksi     0.325336\n",
       "Oda_Sayısı        0.280020\n",
       "Brüt_Metrekare    0.181256\n",
       "Net_Metrekare     0.161464\n",
       "Name: Fiyatı, dtype: float64"
      ]
     },
     "execution_count": 1447,
     "metadata": {},
     "output_type": "execute_result"
    }
   ],
   "source": [
    "train.corr()[\"Fiyatı\"].sort_values(ascending=False).head(10)"
   ]
  },
  {
   "cell_type": "code",
   "execution_count": 1448,
   "id": "8e402514",
   "metadata": {},
   "outputs": [
    {
     "data": {
      "text/html": [
       "<div>\n",
       "<style scoped>\n",
       "    .dataframe tbody tr th:only-of-type {\n",
       "        vertical-align: middle;\n",
       "    }\n",
       "\n",
       "    .dataframe tbody tr th {\n",
       "        vertical-align: top;\n",
       "    }\n",
       "\n",
       "    .dataframe thead th {\n",
       "        text-align: right;\n",
       "    }\n",
       "</style>\n",
       "<table border=\"1\" class=\"dataframe\">\n",
       "  <thead>\n",
       "    <tr style=\"text-align: right;\">\n",
       "      <th></th>\n",
       "      <th>Brüt_Metrekare</th>\n",
       "      <th>Banyo_Sayısı</th>\n",
       "      <th>Net_Metrekare</th>\n",
       "      <th>Oda_Sayısı</th>\n",
       "      <th>Fiyatı</th>\n",
       "      <th>Yaşam_endeksi</th>\n",
       "    </tr>\n",
       "  </thead>\n",
       "  <tbody>\n",
       "    <tr>\n",
       "      <th>Brüt_Metrekare</th>\n",
       "      <td>1.000000</td>\n",
       "      <td>0.191838</td>\n",
       "      <td>0.997841</td>\n",
       "      <td>0.242169</td>\n",
       "      <td>0.181256</td>\n",
       "      <td>0.059759</td>\n",
       "    </tr>\n",
       "    <tr>\n",
       "      <th>Banyo_Sayısı</th>\n",
       "      <td>0.191838</td>\n",
       "      <td>1.000000</td>\n",
       "      <td>0.157089</td>\n",
       "      <td>0.692843</td>\n",
       "      <td>0.405240</td>\n",
       "      <td>0.271535</td>\n",
       "    </tr>\n",
       "    <tr>\n",
       "      <th>Net_Metrekare</th>\n",
       "      <td>0.997841</td>\n",
       "      <td>0.157089</td>\n",
       "      <td>1.000000</td>\n",
       "      <td>0.214129</td>\n",
       "      <td>0.161464</td>\n",
       "      <td>0.043177</td>\n",
       "    </tr>\n",
       "    <tr>\n",
       "      <th>Oda_Sayısı</th>\n",
       "      <td>0.242169</td>\n",
       "      <td>0.692843</td>\n",
       "      <td>0.214129</td>\n",
       "      <td>1.000000</td>\n",
       "      <td>0.280020</td>\n",
       "      <td>0.234511</td>\n",
       "    </tr>\n",
       "    <tr>\n",
       "      <th>Fiyatı</th>\n",
       "      <td>0.181256</td>\n",
       "      <td>0.405240</td>\n",
       "      <td>0.161464</td>\n",
       "      <td>0.280020</td>\n",
       "      <td>1.000000</td>\n",
       "      <td>0.325336</td>\n",
       "    </tr>\n",
       "    <tr>\n",
       "      <th>Yaşam_endeksi</th>\n",
       "      <td>0.059759</td>\n",
       "      <td>0.271535</td>\n",
       "      <td>0.043177</td>\n",
       "      <td>0.234511</td>\n",
       "      <td>0.325336</td>\n",
       "      <td>1.000000</td>\n",
       "    </tr>\n",
       "  </tbody>\n",
       "</table>\n",
       "</div>"
      ],
      "text/plain": [
       "                Brüt_Metrekare  Banyo_Sayısı  Net_Metrekare  Oda_Sayısı  \\\n",
       "Brüt_Metrekare        1.000000      0.191838       0.997841    0.242169   \n",
       "Banyo_Sayısı          0.191838      1.000000       0.157089    0.692843   \n",
       "Net_Metrekare         0.997841      0.157089       1.000000    0.214129   \n",
       "Oda_Sayısı            0.242169      0.692843       0.214129    1.000000   \n",
       "Fiyatı                0.181256      0.405240       0.161464    0.280020   \n",
       "Yaşam_endeksi         0.059759      0.271535       0.043177    0.234511   \n",
       "\n",
       "                  Fiyatı  Yaşam_endeksi  \n",
       "Brüt_Metrekare  0.181256       0.059759  \n",
       "Banyo_Sayısı    0.405240       0.271535  \n",
       "Net_Metrekare   0.161464       0.043177  \n",
       "Oda_Sayısı      0.280020       0.234511  \n",
       "Fiyatı          1.000000       0.325336  \n",
       "Yaşam_endeksi   0.325336       1.000000  "
      ]
     },
     "execution_count": 1448,
     "metadata": {},
     "output_type": "execute_result"
    }
   ],
   "source": [
    "correlations = train.corr()\n",
    "correlations"
   ]
  },
  {
   "cell_type": "code",
   "execution_count": 1449,
   "id": "ee02c257",
   "metadata": {},
   "outputs": [
    {
     "data": {
      "text/plain": [
       "Brüt_Metrekare    0.181256\n",
       "Banyo_Sayısı      0.405240\n",
       "Net_Metrekare     0.161464\n",
       "Oda_Sayısı        0.280020\n",
       "Fiyatı            1.000000\n",
       "Yaşam_endeksi     0.325336\n",
       "Name: Fiyatı, dtype: float64"
      ]
     },
     "execution_count": 1449,
     "metadata": {},
     "output_type": "execute_result"
    }
   ],
   "source": [
    "saleprice_correlations = correlations[\"Fiyatı\"]\n",
    "saleprice_correlations"
   ]
  },
  {
   "cell_type": "code",
   "execution_count": 1450,
   "id": "5b9496c2",
   "metadata": {},
   "outputs": [
    {
     "data": {
      "text/plain": [
       "Fiyatı            1.000000\n",
       "Banyo_Sayısı      0.405240\n",
       "Yaşam_endeksi     0.325336\n",
       "Oda_Sayısı        0.280020\n",
       "Brüt_Metrekare    0.181256\n",
       "Net_Metrekare     0.161464\n",
       "Name: Fiyatı, dtype: float64"
      ]
     },
     "execution_count": 1450,
     "metadata": {},
     "output_type": "execute_result"
    }
   ],
   "source": [
    "saleprice_correlations.sort_values(ascending=False).head(10)"
   ]
  },
  {
   "cell_type": "markdown",
   "id": "90fb9e27",
   "metadata": {},
   "source": [
    "Modelimiz başarılı gözükmüyor fakat en azından başarısızlığını göstermiş olduk. :("
   ]
  }
 ],
 "metadata": {
  "kernelspec": {
   "display_name": "Python 3 (ipykernel)",
   "language": "python",
   "name": "python3"
  },
  "language_info": {
   "codemirror_mode": {
    "name": "ipython",
    "version": 3
   },
   "file_extension": ".py",
   "mimetype": "text/x-python",
   "name": "python",
   "nbconvert_exporter": "python",
   "pygments_lexer": "ipython3",
   "version": "3.11.1"
  }
 },
 "nbformat": 4,
 "nbformat_minor": 5
}
